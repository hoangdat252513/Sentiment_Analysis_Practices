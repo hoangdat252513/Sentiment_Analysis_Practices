{
  "cells": [
    {
      "cell_type": "markdown",
      "id": "6bf3e498",
      "metadata": {
        "id": "6bf3e498",
        "papermill": {
          "duration": 0.041936,
          "end_time": "2022-05-05T13:16:45.177130",
          "exception": false,
          "start_time": "2022-05-05T13:16:45.135194",
          "status": "completed"
        },
        "tags": []
      },
      "source": [
        "# Load data"
      ]
    },
    {
      "cell_type": "code",
      "execution_count": null,
      "id": "88f3972c",
      "metadata": {
        "execution": {
          "iopub.execute_input": "2022-05-05T13:16:45.265700Z",
          "iopub.status.busy": "2022-05-05T13:16:45.264614Z",
          "iopub.status.idle": "2022-05-05T13:16:47.179249Z",
          "shell.execute_reply": "2022-05-05T13:16:47.178191Z"
        },
        "id": "88f3972c",
        "papermill": {
          "duration": 1.962598,
          "end_time": "2022-05-05T13:16:47.182472",
          "exception": false,
          "start_time": "2022-05-05T13:16:45.219874",
          "status": "completed"
        },
        "tags": []
      },
      "outputs": [],
      "source": [
        "import pandas as pd\n",
        "import numpy as np\n",
        "import matplotlib.pyplot as plt\n",
        "import seaborn as sns\n",
        "\n",
        "plt.style.use('ggplot')\n",
        "\n",
        "import nltk\n",
        "nltk.download('punkt')\n",
        "nltk.download('popular')\n",
        "nltk.download('vader_lexicon')"
      ]
    },
    {
      "cell_type": "code",
      "execution_count": 1,
      "id": "tgVqwlTMRB6q",
      "metadata": {
        "colab": {
          "base_uri": "https://localhost:8080/"
        },
        "id": "tgVqwlTMRB6q",
        "outputId": "be1b11b5-9155-42ad-b42f-c1674241af19"
      },
      "outputs": [
        {
          "name": "stdout",
          "output_type": "stream",
          "text": [
            "Mounted at /content/drive\n"
          ]
        }
      ],
      "source": [
        "from google.colab import drive\n",
        "drive.mount('/content/drive')"
      ]
    },
    {
      "cell_type": "code",
      "execution_count": null,
      "id": "b416c4fb",
      "metadata": {
        "execution": {
          "iopub.execute_input": "2022-05-05T13:16:47.274644Z",
          "iopub.status.busy": "2022-05-05T13:16:47.274246Z",
          "iopub.status.idle": "2022-05-05T13:16:55.764854Z",
          "shell.execute_reply": "2022-05-05T13:16:55.763841Z"
        },
        "id": "b416c4fb",
        "papermill": {
          "duration": 8.537322,
          "end_time": "2022-05-05T13:16:55.767413",
          "exception": false,
          "start_time": "2022-05-05T13:16:47.230091",
          "status": "completed"
        },
        "tags": []
      },
      "outputs": [],
      "source": [
        "# Read in data\n",
        "df = pd.read_csv('/content/drive/MyDrive/Dataset /Natural Language Processing/Sentiment Analysis/amazon_reviews_us_Jewelry_v1_00.tsv', header = 0, sep = '\\t', error_bad_lines = False)\n",
        "print(df.shape)\n",
        "df = df.head(500)\n",
        "print(df.shape)\n",
        "\n",
        "#Because dataset is large so I just wanna pick a small data with 500 sample to experiment Pre-trained Model"
      ]
    },
    {
      "cell_type": "code",
      "execution_count": 15,
      "id": "b1eb2d2a",
      "metadata": {
        "colab": {
          "base_uri": "https://localhost:8080/",
          "height": 565
        },
        "execution": {
          "iopub.execute_input": "2022-05-05T13:16:55.858541Z",
          "iopub.status.busy": "2022-05-05T13:16:55.857359Z",
          "iopub.status.idle": "2022-05-05T13:16:55.882061Z",
          "shell.execute_reply": "2022-05-05T13:16:55.880970Z"
        },
        "id": "b1eb2d2a",
        "outputId": "dba9729e-ecc7-4d94-e39c-c794e01c0c98",
        "papermill": {
          "duration": 0.073034,
          "end_time": "2022-05-05T13:16:55.884548",
          "exception": false,
          "start_time": "2022-05-05T13:16:55.811514",
          "status": "completed"
        },
        "tags": []
      },
      "outputs": [
        {
          "data": {
            "text/html": [
              "\n",
              "  <div id=\"df-e174e326-e156-438f-a536-df27b48c88da\">\n",
              "    <div class=\"colab-df-container\">\n",
              "      <div>\n",
              "<style scoped>\n",
              "    .dataframe tbody tr th:only-of-type {\n",
              "        vertical-align: middle;\n",
              "    }\n",
              "\n",
              "    .dataframe tbody tr th {\n",
              "        vertical-align: top;\n",
              "    }\n",
              "\n",
              "    .dataframe thead th {\n",
              "        text-align: right;\n",
              "    }\n",
              "</style>\n",
              "<table border=\"1\" class=\"dataframe\">\n",
              "  <thead>\n",
              "    <tr style=\"text-align: right;\">\n",
              "      <th></th>\n",
              "      <th>marketplace</th>\n",
              "      <th>customer_id</th>\n",
              "      <th>review_id</th>\n",
              "      <th>product_id</th>\n",
              "      <th>product_parent</th>\n",
              "      <th>product_title</th>\n",
              "      <th>product_category</th>\n",
              "      <th>star_rating</th>\n",
              "      <th>helpful_votes</th>\n",
              "      <th>total_votes</th>\n",
              "      <th>vine</th>\n",
              "      <th>verified_purchase</th>\n",
              "      <th>review_headline</th>\n",
              "      <th>review_body</th>\n",
              "      <th>review_date</th>\n",
              "    </tr>\n",
              "  </thead>\n",
              "  <tbody>\n",
              "    <tr>\n",
              "      <th>0</th>\n",
              "      <td>US</td>\n",
              "      <td>50423057</td>\n",
              "      <td>R135Q3VZ4DQN5N</td>\n",
              "      <td>B00JWXFDMG</td>\n",
              "      <td>657335467</td>\n",
              "      <td>Everbling Purple and Clear Briolette Drop Swar...</td>\n",
              "      <td>Jewelry</td>\n",
              "      <td>5</td>\n",
              "      <td>0.0</td>\n",
              "      <td>0.0</td>\n",
              "      <td>N</td>\n",
              "      <td>Y</td>\n",
              "      <td>Beauties!</td>\n",
              "      <td>so beautiful even tho clearly not high end ......</td>\n",
              "      <td>2015-08-31</td>\n",
              "    </tr>\n",
              "    <tr>\n",
              "      <th>1</th>\n",
              "      <td>US</td>\n",
              "      <td>11262325</td>\n",
              "      <td>R2N0QQ6R4T7YRY</td>\n",
              "      <td>B00W5T1H9W</td>\n",
              "      <td>26030170</td>\n",
              "      <td>925 Sterling Silver Finish 6ct Simulated Diamo...</td>\n",
              "      <td>Jewelry</td>\n",
              "      <td>5</td>\n",
              "      <td>0.0</td>\n",
              "      <td>0.0</td>\n",
              "      <td>N</td>\n",
              "      <td>N</td>\n",
              "      <td>Great product.</td>\n",
              "      <td>Great product.. I got this set for my mother, ...</td>\n",
              "      <td>2015-08-31</td>\n",
              "    </tr>\n",
              "    <tr>\n",
              "      <th>2</th>\n",
              "      <td>US</td>\n",
              "      <td>27541121</td>\n",
              "      <td>R3N5JE5Y4T6W5M</td>\n",
              "      <td>B00M2L6KFY</td>\n",
              "      <td>697845240</td>\n",
              "      <td>Sterling Silver Circle \"Friends Forever\" Infin...</td>\n",
              "      <td>Jewelry</td>\n",
              "      <td>5</td>\n",
              "      <td>0.0</td>\n",
              "      <td>0.0</td>\n",
              "      <td>N</td>\n",
              "      <td>Y</td>\n",
              "      <td>Exactly as pictured and my daughter's friend l...</td>\n",
              "      <td>Exactly as pictured and my daughter's friend l...</td>\n",
              "      <td>2015-08-31</td>\n",
              "    </tr>\n",
              "    <tr>\n",
              "      <th>3</th>\n",
              "      <td>US</td>\n",
              "      <td>5350721</td>\n",
              "      <td>R2I150CX5IVY9Q</td>\n",
              "      <td>B0006SW2WU</td>\n",
              "      <td>569859289</td>\n",
              "      <td>Surgical Stainless Steel Domed 9mm Fishbone Ri...</td>\n",
              "      <td>Jewelry</td>\n",
              "      <td>5</td>\n",
              "      <td>0.0</td>\n",
              "      <td>0.0</td>\n",
              "      <td>N</td>\n",
              "      <td>Y</td>\n",
              "      <td>Five Stars</td>\n",
              "      <td>Love it. Fits great. Super comfortable and nea...</td>\n",
              "      <td>2015-08-31</td>\n",
              "    </tr>\n",
              "    <tr>\n",
              "      <th>4</th>\n",
              "      <td>US</td>\n",
              "      <td>24484424</td>\n",
              "      <td>R1RM9ICOOA9MQ3</td>\n",
              "      <td>B009YPDW70</td>\n",
              "      <td>332947422</td>\n",
              "      <td>Sterling Silver Family Pendant Necklace, 18\"</td>\n",
              "      <td>Jewelry</td>\n",
              "      <td>5</td>\n",
              "      <td>0.0</td>\n",
              "      <td>0.0</td>\n",
              "      <td>N</td>\n",
              "      <td>Y</td>\n",
              "      <td>... a Mother's Day gift for my Mom and she lov...</td>\n",
              "      <td>Got this as a Mother's Day gift for my Mom and...</td>\n",
              "      <td>2015-08-31</td>\n",
              "    </tr>\n",
              "  </tbody>\n",
              "</table>\n",
              "</div>\n",
              "      <button class=\"colab-df-convert\" onclick=\"convertToInteractive('df-e174e326-e156-438f-a536-df27b48c88da')\"\n",
              "              title=\"Convert this dataframe to an interactive table.\"\n",
              "              style=\"display:none;\">\n",
              "        \n",
              "  <svg xmlns=\"http://www.w3.org/2000/svg\" height=\"24px\"viewBox=\"0 0 24 24\"\n",
              "       width=\"24px\">\n",
              "    <path d=\"M0 0h24v24H0V0z\" fill=\"none\"/>\n",
              "    <path d=\"M18.56 5.44l.94 2.06.94-2.06 2.06-.94-2.06-.94-.94-2.06-.94 2.06-2.06.94zm-11 1L8.5 8.5l.94-2.06 2.06-.94-2.06-.94L8.5 2.5l-.94 2.06-2.06.94zm10 10l.94 2.06.94-2.06 2.06-.94-2.06-.94-.94-2.06-.94 2.06-2.06.94z\"/><path d=\"M17.41 7.96l-1.37-1.37c-.4-.4-.92-.59-1.43-.59-.52 0-1.04.2-1.43.59L10.3 9.45l-7.72 7.72c-.78.78-.78 2.05 0 2.83L4 21.41c.39.39.9.59 1.41.59.51 0 1.02-.2 1.41-.59l7.78-7.78 2.81-2.81c.8-.78.8-2.07 0-2.86zM5.41 20L4 18.59l7.72-7.72 1.47 1.35L5.41 20z\"/>\n",
              "  </svg>\n",
              "      </button>\n",
              "      \n",
              "  <style>\n",
              "    .colab-df-container {\n",
              "      display:flex;\n",
              "      flex-wrap:wrap;\n",
              "      gap: 12px;\n",
              "    }\n",
              "\n",
              "    .colab-df-convert {\n",
              "      background-color: #E8F0FE;\n",
              "      border: none;\n",
              "      border-radius: 50%;\n",
              "      cursor: pointer;\n",
              "      display: none;\n",
              "      fill: #1967D2;\n",
              "      height: 32px;\n",
              "      padding: 0 0 0 0;\n",
              "      width: 32px;\n",
              "    }\n",
              "\n",
              "    .colab-df-convert:hover {\n",
              "      background-color: #E2EBFA;\n",
              "      box-shadow: 0px 1px 2px rgba(60, 64, 67, 0.3), 0px 1px 3px 1px rgba(60, 64, 67, 0.15);\n",
              "      fill: #174EA6;\n",
              "    }\n",
              "\n",
              "    [theme=dark] .colab-df-convert {\n",
              "      background-color: #3B4455;\n",
              "      fill: #D2E3FC;\n",
              "    }\n",
              "\n",
              "    [theme=dark] .colab-df-convert:hover {\n",
              "      background-color: #434B5C;\n",
              "      box-shadow: 0px 1px 3px 1px rgba(0, 0, 0, 0.15);\n",
              "      filter: drop-shadow(0px 1px 2px rgba(0, 0, 0, 0.3));\n",
              "      fill: #FFFFFF;\n",
              "    }\n",
              "  </style>\n",
              "\n",
              "      <script>\n",
              "        const buttonEl =\n",
              "          document.querySelector('#df-e174e326-e156-438f-a536-df27b48c88da button.colab-df-convert');\n",
              "        buttonEl.style.display =\n",
              "          google.colab.kernel.accessAllowed ? 'block' : 'none';\n",
              "\n",
              "        async function convertToInteractive(key) {\n",
              "          const element = document.querySelector('#df-e174e326-e156-438f-a536-df27b48c88da');\n",
              "          const dataTable =\n",
              "            await google.colab.kernel.invokeFunction('convertToInteractive',\n",
              "                                                     [key], {});\n",
              "          if (!dataTable) return;\n",
              "\n",
              "          const docLinkHtml = 'Like what you see? Visit the ' +\n",
              "            '<a target=\"_blank\" href=https://colab.research.google.com/notebooks/data_table.ipynb>data table notebook</a>'\n",
              "            + ' to learn more about interactive tables.';\n",
              "          element.innerHTML = '';\n",
              "          dataTable['output_type'] = 'display_data';\n",
              "          await google.colab.output.renderOutput(dataTable, element);\n",
              "          const docLink = document.createElement('div');\n",
              "          docLink.innerHTML = docLinkHtml;\n",
              "          element.appendChild(docLink);\n",
              "        }\n",
              "      </script>\n",
              "    </div>\n",
              "  </div>\n",
              "  "
            ],
            "text/plain": [
              "  marketplace  customer_id       review_id  product_id  product_parent  \\\n",
              "0          US     50423057  R135Q3VZ4DQN5N  B00JWXFDMG       657335467   \n",
              "1          US     11262325  R2N0QQ6R4T7YRY  B00W5T1H9W        26030170   \n",
              "2          US     27541121  R3N5JE5Y4T6W5M  B00M2L6KFY       697845240   \n",
              "3          US      5350721  R2I150CX5IVY9Q  B0006SW2WU       569859289   \n",
              "4          US     24484424  R1RM9ICOOA9MQ3  B009YPDW70       332947422   \n",
              "\n",
              "                                       product_title product_category  \\\n",
              "0  Everbling Purple and Clear Briolette Drop Swar...          Jewelry   \n",
              "1  925 Sterling Silver Finish 6ct Simulated Diamo...          Jewelry   \n",
              "2  Sterling Silver Circle \"Friends Forever\" Infin...          Jewelry   \n",
              "3  Surgical Stainless Steel Domed 9mm Fishbone Ri...          Jewelry   \n",
              "4       Sterling Silver Family Pendant Necklace, 18\"          Jewelry   \n",
              "\n",
              "  star_rating  helpful_votes  total_votes vine verified_purchase  \\\n",
              "0           5            0.0          0.0    N                 Y   \n",
              "1           5            0.0          0.0    N                 N   \n",
              "2           5            0.0          0.0    N                 Y   \n",
              "3           5            0.0          0.0    N                 Y   \n",
              "4           5            0.0          0.0    N                 Y   \n",
              "\n",
              "                                     review_headline  \\\n",
              "0                                          Beauties!   \n",
              "1                                     Great product.   \n",
              "2  Exactly as pictured and my daughter's friend l...   \n",
              "3                                         Five Stars   \n",
              "4  ... a Mother's Day gift for my Mom and she lov...   \n",
              "\n",
              "                                         review_body review_date  \n",
              "0  so beautiful even tho clearly not high end ......  2015-08-31  \n",
              "1  Great product.. I got this set for my mother, ...  2015-08-31  \n",
              "2  Exactly as pictured and my daughter's friend l...  2015-08-31  \n",
              "3  Love it. Fits great. Super comfortable and nea...  2015-08-31  \n",
              "4  Got this as a Mother's Day gift for my Mom and...  2015-08-31  "
            ]
          },
          "execution_count": 15,
          "metadata": {},
          "output_type": "execute_result"
        }
      ],
      "source": [
        "df.head()"
      ]
    },
    {
      "cell_type": "markdown",
      "id": "eed80b6b",
      "metadata": {
        "id": "eed80b6b",
        "papermill": {
          "duration": 0.043361,
          "end_time": "2022-05-05T13:16:55.973118",
          "exception": false,
          "start_time": "2022-05-05T13:16:55.929757",
          "status": "completed"
        },
        "tags": []
      },
      "source": [
        "## Exploratory Data Analysis "
      ]
    },
    {
      "cell_type": "code",
      "execution_count": 65,
      "id": "Hz6gG4uWS-_P",
      "metadata": {
        "id": "Hz6gG4uWS-_P"
      },
      "outputs": [],
      "source": [
        "df = df[['star_rating','review_body']]"
      ]
    },
    {
      "cell_type": "code",
      "execution_count": 66,
      "id": "XhZ5pREpTCg2",
      "metadata": {
        "colab": {
          "base_uri": "https://localhost:8080/"
        },
        "id": "XhZ5pREpTCg2",
        "outputId": "b708bddb-786b-4f64-9abb-f35193cd5367"
      },
      "outputs": [
        {
          "name": "stdout",
          "output_type": "stream",
          "text": [
            "<class 'pandas.core.frame.DataFrame'>\n",
            "RangeIndex: 500 entries, 0 to 499\n",
            "Data columns (total 2 columns):\n",
            " #   Column       Non-Null Count  Dtype \n",
            "---  ------       --------------  ----- \n",
            " 0   star_rating  500 non-null    object\n",
            " 1   review_body  500 non-null    object\n",
            "dtypes: object(2)\n",
            "memory usage: 7.9+ KB\n"
          ]
        }
      ],
      "source": [
        "df.info()"
      ]
    },
    {
      "cell_type": "code",
      "execution_count": 19,
      "id": "KsGOOAinTI8R",
      "metadata": {
        "colab": {
          "base_uri": "https://localhost:8080/"
        },
        "id": "KsGOOAinTI8R",
        "outputId": "82fa67c1-db39-4038-bfd2-f2fd4b89e78f"
      },
      "outputs": [
        {
          "data": {
            "text/plain": [
              "star_rating    0\n",
              "review_body    0\n",
              "dtype: int64"
            ]
          },
          "execution_count": 19,
          "metadata": {},
          "output_type": "execute_result"
        }
      ],
      "source": [
        "df.isnull().sum()"
      ]
    },
    {
      "cell_type": "code",
      "execution_count": 67,
      "id": "JcwpjRP-TKaf",
      "metadata": {
        "id": "JcwpjRP-TKaf"
      },
      "outputs": [],
      "source": [
        "df=df.dropna()\n",
        "df = df.reset_index(drop=True)"
      ]
    },
    {
      "cell_type": "code",
      "execution_count": 68,
      "id": "XcucZn3KTMIK",
      "metadata": {
        "id": "XcucZn3KTMIK"
      },
      "outputs": [],
      "source": [
        "#convert the star_rating column to int\n",
        "df['star_rating']=df['star_rating'].astype(int) "
      ]
    },
    {
      "cell_type": "code",
      "execution_count": 20,
      "id": "S1_RQYimTOSJ",
      "metadata": {
        "colab": {
          "base_uri": "https://localhost:8080/"
        },
        "id": "S1_RQYimTOSJ",
        "outputId": "9ad94140-23a0-4361-cd3d-38f37f5874b8"
      },
      "outputs": [
        {
          "data": {
            "text/plain": [
              "1     42\n",
              "2     39\n",
              "3     40\n",
              "4     76\n",
              "5    303\n",
              "Name: star_rating, dtype: int64"
            ]
          },
          "execution_count": 20,
          "metadata": {},
          "output_type": "execute_result"
        }
      ],
      "source": [
        "count_score = df['star_rating'].value_counts().sort_index()\n",
        "count_score"
      ]
    },
    {
      "cell_type": "code",
      "execution_count": 24,
      "id": "51d81d6e",
      "metadata": {
        "colab": {
          "base_uri": "https://localhost:8080/",
          "height": 350
        },
        "execution": {
          "iopub.execute_input": "2022-05-05T13:16:56.062392Z",
          "iopub.status.busy": "2022-05-05T13:16:56.061640Z",
          "iopub.status.idle": "2022-05-05T13:16:56.318235Z",
          "shell.execute_reply": "2022-05-05T13:16:56.317466Z"
        },
        "id": "51d81d6e",
        "outputId": "f7e67dee-537f-4296-8264-fb88c508c76b",
        "papermill": {
          "duration": 0.303652,
          "end_time": "2022-05-05T13:16:56.320404",
          "exception": false,
          "start_time": "2022-05-05T13:16:56.016752",
          "status": "completed"
        },
        "tags": []
      },
      "outputs": [
        {
          "data": {
            "image/png": "[encoded data removed]",
            "text/plain": [
              "<Figure size 720x360 with 1 Axes>"
            ]
          },
          "metadata": {},
          "output_type": "display_data"
        }
      ],
      "source": [
        "ax = count_score.plot(kind='bar', title='Count of Reviews by Stars', figsize=(10, 5))\n",
        "ax.set_xlabel('Review Stars')\n",
        "plt.show()"
      ]
    },
    {
      "cell_type": "code",
      "execution_count": 22,
      "id": "42VGQNaZTRnX",
      "metadata": {
        "colab": {
          "base_uri": "https://localhost:8080/",
          "height": 265
        },
        "id": "42VGQNaZTRnX",
        "outputId": "35245a85-7593-4bf6-eaff-54f8eed1dea8"
      },
      "outputs": [
        {
          "data": {
            "image/png": "[encoded data removed]",
            "text/plain": [
              "<Figure size 432x288 with 1 Axes>"
            ]
          },
          "metadata": {},
          "output_type": "display_data"
        }
      ],
      "source": [
        "plt.pie(count_score, labels = ['1','2','3','4','5'], colors = sns.color_palette('bright')[0:], autopct='%1.1f%%', radius = 2)\n",
        "plt.title('Percentage Count of Reviews by Stars')\n",
        "plt.legend(loc = 'upper left', labels = ['1 star','2 star','3 star','4 star','5 star'], title = 'Number of Star')\n",
        "plt.axis('equal')\n",
        "plt.show()"
      ]
    },
    {
      "cell_type": "markdown",
      "id": "1ba722a7",
      "metadata": {
        "id": "1ba722a7",
        "papermill": {
          "duration": 0.046573,
          "end_time": "2022-05-05T13:16:57.280042",
          "exception": false,
          "start_time": "2022-05-05T13:16:57.233469",
          "status": "completed"
        },
        "tags": []
      },
      "source": [
        "# VADER Seniment Scoring\n",
        "\n",
        "We will use NLTK's `SentimentIntensityAnalyzer` to get the neg/neu/pos scores of the text.\n",
        "\n",
        "- This uses a \"bag of words\" approach:\n",
        "    1. Stop words are removed\n",
        "    2. each word is scored and combined to a total score."
      ]
    },
    {
      "cell_type": "code",
      "execution_count": 8,
      "id": "8b04039d",
      "metadata": {
        "execution": {
          "iopub.execute_input": "2022-05-05T13:16:57.375055Z",
          "iopub.status.busy": "2022-05-05T13:16:57.374697Z",
          "iopub.status.idle": "2022-05-05T13:16:57.412693Z",
          "shell.execute_reply": "2022-05-05T13:16:57.411692Z"
        },
        "id": "8b04039d",
        "papermill": {
          "duration": 0.089388,
          "end_time": "2022-05-05T13:16:57.416134",
          "exception": false,
          "start_time": "2022-05-05T13:16:57.326746",
          "status": "completed"
        },
        "tags": []
      },
      "outputs": [],
      "source": [
        "from nltk.sentiment import SentimentIntensityAnalyzer\n",
        "from tqdm.notebook import tqdm\n",
        "\n",
        "sia = SentimentIntensityAnalyzer()"
      ]
    },
    {
      "cell_type": "code",
      "execution_count": 53,
      "id": "6de9cd7c",
      "metadata": {
        "colab": {
          "base_uri": "https://localhost:8080/"
        },
        "execution": {
          "iopub.execute_input": "2022-05-05T13:16:57.511819Z",
          "iopub.status.busy": "2022-05-05T13:16:57.511435Z",
          "iopub.status.idle": "2022-05-05T13:16:57.518090Z",
          "shell.execute_reply": "2022-05-05T13:16:57.517264Z"
        },
        "id": "6de9cd7c",
        "outputId": "050d4c21-7dde-4b09-e53a-a2536cf9a5a4",
        "papermill": {
          "duration": 0.057151,
          "end_time": "2022-05-05T13:16:57.520575",
          "exception": false,
          "start_time": "2022-05-05T13:16:57.463424",
          "status": "completed"
        },
        "tags": []
      },
      "outputs": [
        {
          "data": {
            "text/plain": [
              "{'neg': 0.0, 'neu': 0.27, 'pos': 0.73, 'compound': 0.4019}"
            ]
          },
          "execution_count": 53,
          "metadata": {},
          "output_type": "execute_result"
        }
      ],
      "source": [
        "sia.polarity_scores(\"That's hilarious\")"
      ]
    },
    {
      "cell_type": "code",
      "execution_count": 52,
      "id": "4e777c60",
      "metadata": {
        "colab": {
          "base_uri": "https://localhost:8080/"
        },
        "execution": {
          "iopub.execute_input": "2022-05-05T13:16:57.616279Z",
          "iopub.status.busy": "2022-05-05T13:16:57.615311Z",
          "iopub.status.idle": "2022-05-05T13:16:57.623029Z",
          "shell.execute_reply": "2022-05-05T13:16:57.622127Z"
        },
        "id": "4e777c60",
        "outputId": "8c6d2919-a271-4d9a-d08c-c7644a98e86e",
        "papermill": {
          "duration": 0.05812,
          "end_time": "2022-05-05T13:16:57.625093",
          "exception": false,
          "start_time": "2022-05-05T13:16:57.566973",
          "status": "completed"
        },
        "tags": []
      },
      "outputs": [
        {
          "data": {
            "text/plain": [
              "{'neg': 0.369, 'neu': 0.631, 'pos': 0.0, 'compound': -0.6249}"
            ]
          },
          "execution_count": 52,
          "metadata": {},
          "output_type": "execute_result"
        }
      ],
      "source": [
        "sia.polarity_scores('This is the worst pre-trained model ever =))')"
      ]
    },
    {
      "cell_type": "code",
      "execution_count": 27,
      "id": "78137d2a",
      "metadata": {
        "colab": {
          "base_uri": "https://localhost:8080/",
          "height": 49,
          "referenced_widgets": [
            "5f74da51b145434d8ad5036968cc3c45",
            "5a5308610fb246859b78678ee82e5197",
            "ed6058d9c7954d2bb82cfccb1b89d235",
            "9432487a521947aa82392c15dfff332e",
            "dc6bb9312f854aa4a39d79d9724b2de3",
            "d6dced4a7cd945db998a37665764b6d8",
            "11a999edb5aa4c8790a25b147fc6f256",
            "fb807659502945cfbf13bc3298402189",
            "457754fda88740c89e034a01bfc596c9",
            "5092b1d093ab4a9194858b17fd451e28",
            "4e0fb0e4884545b79be097717e33a305"
          ]
        },
        "execution": {
          "iopub.execute_input": "2022-05-05T13:16:57.826141Z",
          "iopub.status.busy": "2022-05-05T13:16:57.825624Z",
          "iopub.status.idle": "2022-05-05T13:16:58.424856Z",
          "shell.execute_reply": "2022-05-05T13:16:58.423673Z"
        },
        "id": "78137d2a",
        "outputId": "e8354cd6-9642-48c6-c18e-2c6c3f4579c1",
        "papermill": {
          "duration": 0.650564,
          "end_time": "2022-05-05T13:16:58.427263",
          "exception": false,
          "start_time": "2022-05-05T13:16:57.776699",
          "status": "completed"
        },
        "tags": []
      },
      "outputs": [
        {
          "data": {
            "application/vnd.jupyter.widget-view+json": {
              "model_id": "5f74da51b145434d8ad5036968cc3c45",
              "version_major": 2,
              "version_minor": 0
            },
            "text/plain": [
              "  0%|          | 0/500 [00:00<?, ?it/s]"
            ]
          },
          "metadata": {},
          "output_type": "display_data"
        }
      ],
      "source": [
        "# Run the polarity score on the entire dataset\n",
        "res = {}\n",
        "for i, row in tqdm(df.iterrows(), total=len(df)):\n",
        "    text = row['review_body']\n",
        "    myid = i\n",
        "    res[myid] = sia.polarity_scores(text)"
      ]
    },
    {
      "cell_type": "code",
      "execution_count": 37,
      "id": "375cf2a4",
      "metadata": {
        "execution": {
          "iopub.execute_input": "2022-05-05T13:16:58.526666Z",
          "iopub.status.busy": "2022-05-05T13:16:58.525900Z",
          "iopub.status.idle": "2022-05-05T13:16:58.565505Z",
          "shell.execute_reply": "2022-05-05T13:16:58.564430Z"
        },
        "id": "375cf2a4",
        "papermill": {
          "duration": 0.092622,
          "end_time": "2022-05-05T13:16:58.568367",
          "exception": false,
          "start_time": "2022-05-05T13:16:58.475745",
          "status": "completed"
        },
        "tags": []
      },
      "outputs": [],
      "source": [
        "df = df.reset_index().rename(columns={'index':'Id'})\n",
        "# I add ID column by using index of Dataframe to merge with vaders have common column ID\n",
        "\n",
        "vaders = pd.DataFrame(res).T\n",
        "vaders = vaders.reset_index().rename(columns={'index': 'Id'})\n",
        "vaders = vaders.merge(df, how = 'left')"
      ]
    },
    {
      "cell_type": "code",
      "execution_count": 39,
      "id": "68a573ab",
      "metadata": {
        "colab": {
          "base_uri": "https://localhost:8080/",
          "height": 206
        },
        "execution": {
          "iopub.execute_input": "2022-05-05T13:16:58.668468Z",
          "iopub.status.busy": "2022-05-05T13:16:58.667815Z",
          "iopub.status.idle": "2022-05-05T13:16:58.686869Z",
          "shell.execute_reply": "2022-05-05T13:16:58.685970Z"
        },
        "id": "68a573ab",
        "outputId": "c0c73289-a838-41d3-a692-5aaa60f99332",
        "papermill": {
          "duration": 0.071353,
          "end_time": "2022-05-05T13:16:58.689144",
          "exception": false,
          "start_time": "2022-05-05T13:16:58.617791",
          "status": "completed"
        },
        "tags": []
      },
      "outputs": [
        {
          "data": {
            "text/html": [
              "\n",
              "  <div id=\"df-1c2bda38-ba43-4a46-aa29-a4946d1deffe\">\n",
              "    <div class=\"colab-df-container\">\n",
              "      <div>\n",
              "<style scoped>\n",
              "    .dataframe tbody tr th:only-of-type {\n",
              "        vertical-align: middle;\n",
              "    }\n",
              "\n",
              "    .dataframe tbody tr th {\n",
              "        vertical-align: top;\n",
              "    }\n",
              "\n",
              "    .dataframe thead th {\n",
              "        text-align: right;\n",
              "    }\n",
              "</style>\n",
              "<table border=\"1\" class=\"dataframe\">\n",
              "  <thead>\n",
              "    <tr style=\"text-align: right;\">\n",
              "      <th></th>\n",
              "      <th>Id</th>\n",
              "      <th>neg</th>\n",
              "      <th>neu</th>\n",
              "      <th>pos</th>\n",
              "      <th>compound</th>\n",
              "      <th>star_rating</th>\n",
              "      <th>review_body</th>\n",
              "    </tr>\n",
              "  </thead>\n",
              "  <tbody>\n",
              "    <tr>\n",
              "      <th>0</th>\n",
              "      <td>0</td>\n",
              "      <td>0.000</td>\n",
              "      <td>0.597</td>\n",
              "      <td>0.403</td>\n",
              "      <td>0.9665</td>\n",
              "      <td>5</td>\n",
              "      <td>so beautiful even tho clearly not high end ......</td>\n",
              "    </tr>\n",
              "    <tr>\n",
              "      <th>1</th>\n",
              "      <td>1</td>\n",
              "      <td>0.112</td>\n",
              "      <td>0.794</td>\n",
              "      <td>0.094</td>\n",
              "      <td>0.1625</td>\n",
              "      <td>5</td>\n",
              "      <td>Great product.. I got this set for my mother, ...</td>\n",
              "    </tr>\n",
              "    <tr>\n",
              "      <th>2</th>\n",
              "      <td>2</td>\n",
              "      <td>0.000</td>\n",
              "      <td>0.638</td>\n",
              "      <td>0.362</td>\n",
              "      <td>0.9347</td>\n",
              "      <td>5</td>\n",
              "      <td>Exactly as pictured and my daughter's friend l...</td>\n",
              "    </tr>\n",
              "    <tr>\n",
              "      <th>3</th>\n",
              "      <td>3</td>\n",
              "      <td>0.000</td>\n",
              "      <td>0.402</td>\n",
              "      <td>0.598</td>\n",
              "      <td>0.9656</td>\n",
              "      <td>5</td>\n",
              "      <td>Love it. Fits great. Super comfortable and nea...</td>\n",
              "    </tr>\n",
              "    <tr>\n",
              "      <th>4</th>\n",
              "      <td>4</td>\n",
              "      <td>0.000</td>\n",
              "      <td>0.554</td>\n",
              "      <td>0.446</td>\n",
              "      <td>0.9167</td>\n",
              "      <td>5</td>\n",
              "      <td>Got this as a Mother's Day gift for my Mom and...</td>\n",
              "    </tr>\n",
              "  </tbody>\n",
              "</table>\n",
              "</div>\n",
              "      <button class=\"colab-df-convert\" onclick=\"convertToInteractive('df-1c2bda38-ba43-4a46-aa29-a4946d1deffe')\"\n",
              "              title=\"Convert this dataframe to an interactive table.\"\n",
              "              style=\"display:none;\">\n",
              "        \n",
              "  <svg xmlns=\"http://www.w3.org/2000/svg\" height=\"24px\"viewBox=\"0 0 24 24\"\n",
              "       width=\"24px\">\n",
              "    <path d=\"M0 0h24v24H0V0z\" fill=\"none\"/>\n",
              "    <path d=\"M18.56 5.44l.94 2.06.94-2.06 2.06-.94-2.06-.94-.94-2.06-.94 2.06-2.06.94zm-11 1L8.5 8.5l.94-2.06 2.06-.94-2.06-.94L8.5 2.5l-.94 2.06-2.06.94zm10 10l.94 2.06.94-2.06 2.06-.94-2.06-.94-.94-2.06-.94 2.06-2.06.94z\"/><path d=\"M17.41 7.96l-1.37-1.37c-.4-.4-.92-.59-1.43-.59-.52 0-1.04.2-1.43.59L10.3 9.45l-7.72 7.72c-.78.78-.78 2.05 0 2.83L4 21.41c.39.39.9.59 1.41.59.51 0 1.02-.2 1.41-.59l7.78-7.78 2.81-2.81c.8-.78.8-2.07 0-2.86zM5.41 20L4 18.59l7.72-7.72 1.47 1.35L5.41 20z\"/>\n",
              "  </svg>\n",
              "      </button>\n",
              "      \n",
              "  <style>\n",
              "    .colab-df-container {\n",
              "      display:flex;\n",
              "      flex-wrap:wrap;\n",
              "      gap: 12px;\n",
              "    }\n",
              "\n",
              "    .colab-df-convert {\n",
              "      background-color: #E8F0FE;\n",
              "      border: none;\n",
              "      border-radius: 50%;\n",
              "      cursor: pointer;\n",
              "      display: none;\n",
              "      fill: #1967D2;\n",
              "      height: 32px;\n",
              "      padding: 0 0 0 0;\n",
              "      width: 32px;\n",
              "    }\n",
              "\n",
              "    .colab-df-convert:hover {\n",
              "      background-color: #E2EBFA;\n",
              "      box-shadow: 0px 1px 2px rgba(60, 64, 67, 0.3), 0px 1px 3px 1px rgba(60, 64, 67, 0.15);\n",
              "      fill: #174EA6;\n",
              "    }\n",
              "\n",
              "    [theme=dark] .colab-df-convert {\n",
              "      background-color: #3B4455;\n",
              "      fill: #D2E3FC;\n",
              "    }\n",
              "\n",
              "    [theme=dark] .colab-df-convert:hover {\n",
              "      background-color: #434B5C;\n",
              "      box-shadow: 0px 1px 3px 1px rgba(0, 0, 0, 0.15);\n",
              "      filter: drop-shadow(0px 1px 2px rgba(0, 0, 0, 0.3));\n",
              "      fill: #FFFFFF;\n",
              "    }\n",
              "  </style>\n",
              "\n",
              "      <script>\n",
              "        const buttonEl =\n",
              "          document.querySelector('#df-1c2bda38-ba43-4a46-aa29-a4946d1deffe button.colab-df-convert');\n",
              "        buttonEl.style.display =\n",
              "          google.colab.kernel.accessAllowed ? 'block' : 'none';\n",
              "\n",
              "        async function convertToInteractive(key) {\n",
              "          const element = document.querySelector('#df-1c2bda38-ba43-4a46-aa29-a4946d1deffe');\n",
              "          const dataTable =\n",
              "            await google.colab.kernel.invokeFunction('convertToInteractive',\n",
              "                                                     [key], {});\n",
              "          if (!dataTable) return;\n",
              "\n",
              "          const docLinkHtml = 'Like what you see? Visit the ' +\n",
              "            '<a target=\"_blank\" href=https://colab.research.google.com/notebooks/data_table.ipynb>data table notebook</a>'\n",
              "            + ' to learn more about interactive tables.';\n",
              "          element.innerHTML = '';\n",
              "          dataTable['output_type'] = 'display_data';\n",
              "          await google.colab.output.renderOutput(dataTable, element);\n",
              "          const docLink = document.createElement('div');\n",
              "          docLink.innerHTML = docLinkHtml;\n",
              "          element.appendChild(docLink);\n",
              "        }\n",
              "      </script>\n",
              "    </div>\n",
              "  </div>\n",
              "  "
            ],
            "text/plain": [
              "   Id    neg    neu    pos  compound star_rating  \\\n",
              "0   0  0.000  0.597  0.403    0.9665           5   \n",
              "1   1  0.112  0.794  0.094    0.1625           5   \n",
              "2   2  0.000  0.638  0.362    0.9347           5   \n",
              "3   3  0.000  0.402  0.598    0.9656           5   \n",
              "4   4  0.000  0.554  0.446    0.9167           5   \n",
              "\n",
              "                                         review_body  \n",
              "0  so beautiful even tho clearly not high end ......  \n",
              "1  Great product.. I got this set for my mother, ...  \n",
              "2  Exactly as pictured and my daughter's friend l...  \n",
              "3  Love it. Fits great. Super comfortable and nea...  \n",
              "4  Got this as a Mother's Day gift for my Mom and...  "
            ]
          },
          "execution_count": 39,
          "metadata": {},
          "output_type": "execute_result"
        }
      ],
      "source": [
        "# Now we have sentiment score and metadata\n",
        "vaders.head()"
      ]
    },
    {
      "cell_type": "markdown",
      "id": "8284d043",
      "metadata": {
        "id": "8284d043",
        "papermill": {
          "duration": 0.051663,
          "end_time": "2022-05-05T13:17:00.555740",
          "exception": false,
          "start_time": "2022-05-05T13:17:00.504077",
          "status": "completed"
        },
        "tags": []
      },
      "source": [
        "# Roberta Pretrained Model\n",
        "\n",
        "- Use a model trained of a large corpus of data.\n",
        "- Transformer model accounts for the words but also the context related to other words."
      ]
    },
    {
      "cell_type": "code",
      "execution_count": null,
      "id": "ab-vs1aJR_Wr",
      "metadata": {
        "id": "ab-vs1aJR_Wr"
      },
      "outputs": [],
      "source": [
        "!pip install transformers"
      ]
    },
    {
      "cell_type": "code",
      "execution_count": 12,
      "id": "6b05183d",
      "metadata": {
        "execution": {
          "iopub.execute_input": "2022-05-05T13:17:00.660992Z",
          "iopub.status.busy": "2022-05-05T13:17:00.660638Z",
          "iopub.status.idle": "2022-05-05T13:17:07.529006Z",
          "shell.execute_reply": "2022-05-05T13:17:07.527954Z"
        },
        "id": "6b05183d",
        "papermill": {
          "duration": 6.924232,
          "end_time": "2022-05-05T13:17:07.531880",
          "exception": false,
          "start_time": "2022-05-05T13:17:00.607648",
          "status": "completed"
        },
        "tags": []
      },
      "outputs": [],
      "source": [
        "from transformers import AutoTokenizer\n",
        "from transformers import AutoModelForSequenceClassification\n",
        "from scipy.special import softmax"
      ]
    },
    {
      "cell_type": "code",
      "execution_count": 42,
      "id": "26ffb071",
      "metadata": {
        "colab": {
          "base_uri": "https://localhost:8080/",
          "height": 177,
          "referenced_widgets": [
            "05a5e315d4b746579b533048e49a788d",
            "ba379f01990e4b6fb0b74c909340ac08",
            "59e2cf251b1e47f29e248291b9ca55cb",
            "0ab9759c49cb4c8a9a89050bae7950e9",
            "50b4464b23a745aab99260890740cc52",
            "70794184d62d440784943d978154ecb5",
            "d2a67e411045491f97680ced233aece7",
            "8f14c9cf1af34cb2a4621794c6d13fa1",
            "3bb23fad4d30410f834203bb113e903b",
            "05f3f7c029ba4ee1bc3e3f53b2e058b8",
            "0bbf2bec7ad54168b72039add57ad4cd",
            "334dec41651646fbb7e172afda89be28",
            "d820c1dd34a445ad864abfe255269581",
            "e76989f551054c9f9dd93900624588d6",
            "9e5909b046164ab19d83ba616f88a039",
            "d37c53d95386404181be294bf5bbc3ad",
            "25603894e84d4de8bb2c50097b09b1a6",
            "3679f1afa8464cef8d889ca190ece19d",
            "252b0a4d98ea4474836cf3546518b56f",
            "1b5d8d8e7fdd479682f8c6ba57a5776a",
            "a618f948409f4b0aadeec9a3bb57c0aa",
            "bc42d98e9d6d4ce99a35671ac0dc91ed",
            "22e719009958459299efacc8d4809fac",
            "b6e7167246414e6eacb9d2151eea0620",
            "fc65badb9acd4268bb5d1c8ba10f7f33",
            "41d89f22e6d441f3a11526f4638ea0c5",
            "d6ac02b7ec1647fa9a64bc26c0c81ac7",
            "d816b0a0273f4f15a001fe771571997e",
            "e93c613e5b0741b28fd690ed70fc7235",
            "b659ece17c85478f86953b051abceb46",
            "84dee848cd174be08053da6cf7edd7e4",
            "0186c6fc47fc4a5ab2c568f6988925a2",
            "b877103f9b53410c92ec3174dce918ba",
            "c25e819f23624de6bae79a63e43e0341",
            "b52fbaf43de149c4a1fa3f479d733772",
            "248756d616db44f2a6541d0578f81722",
            "519baef1c4e44738a48c4522c38fb0d0",
            "648b7030621f44e5ad2a272142475ddc",
            "4e4a3f0084d14d279e5ce5ac0b9c1021",
            "208e40fa33234a3ab2a27e1380146e7f",
            "29b7a82bd4af421a9d94c10c449226da",
            "63966813b8ac4bc4a823f3b8c1bc3626",
            "5b094994b6b94c16b67fdf049330604c",
            "db7c421e35704e9ab235a5c069127370",
            "a12438211f0342cbbce993f47fe5ddf4",
            "23de13f54acd42efb3d2b42c35092b80",
            "4405742977fc44eb8f7953fec0181e65",
            "38682a41c4514be39af5d72a0654246b",
            "f4d8240cc0144996880745dbbe22ea34",
            "fdcaa028ed6845faaf4fd920d67931a6",
            "537e5b63e82042749fe8cc60a0bd6f4b",
            "7e69ab6efd054786b3d821344fa0f42e",
            "9f8a5124749444d89241e5f592b22480",
            "bd900b92807a4d24aca116391ca86edc",
            "847803dbeb214508b80900fbe5315b1a"
          ]
        },
        "execution": {
          "iopub.execute_input": "2022-05-05T13:17:07.638903Z",
          "iopub.status.busy": "2022-05-05T13:17:07.637826Z",
          "iopub.status.idle": "2022-05-05T13:17:40.090861Z",
          "shell.execute_reply": "2022-05-05T13:17:40.089889Z"
        },
        "id": "26ffb071",
        "outputId": "3081e8e9-d979-404e-ddfc-89a66e11d734",
        "papermill": {
          "duration": 32.50923,
          "end_time": "2022-05-05T13:17:40.093749",
          "exception": false,
          "start_time": "2022-05-05T13:17:07.584519",
          "status": "completed"
        },
        "tags": []
      },
      "outputs": [
        {
          "data": {
            "application/vnd.jupyter.widget-view+json": {
              "model_id": "05a5e315d4b746579b533048e49a788d",
              "version_major": 2,
              "version_minor": 0
            },
            "text/plain": [
              "Downloading (…)lve/main/config.json:   0%|          | 0.00/747 [00:00<?, ?B/s]"
            ]
          },
          "metadata": {},
          "output_type": "display_data"
        },
        {
          "data": {
            "application/vnd.jupyter.widget-view+json": {
              "model_id": "334dec41651646fbb7e172afda89be28",
              "version_major": 2,
              "version_minor": 0
            },
            "text/plain": [
              "Downloading (…)olve/main/vocab.json:   0%|          | 0.00/899k [00:00<?, ?B/s]"
            ]
          },
          "metadata": {},
          "output_type": "display_data"
        },
        {
          "data": {
            "application/vnd.jupyter.widget-view+json": {
              "model_id": "22e719009958459299efacc8d4809fac",
              "version_major": 2,
              "version_minor": 0
            },
            "text/plain": [
              "Downloading (…)olve/main/merges.txt:   0%|          | 0.00/456k [00:00<?, ?B/s]"
            ]
          },
          "metadata": {},
          "output_type": "display_data"
        },
        {
          "data": {
            "application/vnd.jupyter.widget-view+json": {
              "model_id": "c25e819f23624de6bae79a63e43e0341",
              "version_major": 2,
              "version_minor": 0
            },
            "text/plain": [
              "Downloading (…)cial_tokens_map.json:   0%|          | 0.00/150 [00:00<?, ?B/s]"
            ]
          },
          "metadata": {},
          "output_type": "display_data"
        },
        {
          "data": {
            "application/vnd.jupyter.widget-view+json": {
              "model_id": "a12438211f0342cbbce993f47fe5ddf4",
              "version_major": 2,
              "version_minor": 0
            },
            "text/plain": [
              "Downloading (…)\"pytorch_model.bin\";:   0%|          | 0.00/499M [00:00<?, ?B/s]"
            ]
          },
          "metadata": {},
          "output_type": "display_data"
        }
      ],
      "source": [
        "MODEL = f\"cardiffnlp/twitter-roberta-base-sentiment\"\n",
        "tokenizer = AutoTokenizer.from_pretrained(MODEL)\n",
        "model = AutoModelForSequenceClassification.from_pretrained(MODEL)"
      ]
    },
    {
      "cell_type": "code",
      "execution_count": 46,
      "id": "dada19a5",
      "metadata": {
        "colab": {
          "base_uri": "https://localhost:8080/"
        },
        "execution": {
          "iopub.execute_input": "2022-05-05T13:17:40.337743Z",
          "iopub.status.busy": "2022-05-05T13:17:40.337047Z",
          "iopub.status.idle": "2022-05-05T13:17:40.580183Z",
          "shell.execute_reply": "2022-05-05T13:17:40.579435Z"
        },
        "id": "dada19a5",
        "outputId": "bde282e8-9425-4272-b753-8749ff9f4530",
        "papermill": {
          "duration": 0.305753,
          "end_time": "2022-05-05T13:17:40.583569",
          "exception": false,
          "start_time": "2022-05-05T13:17:40.277816",
          "status": "completed"
        },
        "tags": []
      },
      "outputs": [
        {
          "name": "stdout",
          "output_type": "stream",
          "text": [
            "{'roberta_neg': 0.0015882059, 'roberta_neu': 0.04920696, 'roberta_pos': 0.9492048}\n"
          ]
        }
      ],
      "source": [
        "# Run for Roberta Model\n",
        "encoded_text = tokenizer('I drink my favorite beverage', return_tensors='pt')\n",
        "output = model(**encoded_text)\n",
        "scores = output[0][0].detach().numpy()\n",
        "scores = softmax(scores)\n",
        "scores_dict = {\n",
        "    'roberta_neg' : scores[0],\n",
        "    'roberta_neu' : scores[1],\n",
        "    'roberta_pos' : scores[2]\n",
        "}\n",
        "print(scores_dict)"
      ]
    },
    {
      "cell_type": "code",
      "execution_count": 44,
      "id": "106aa26b",
      "metadata": {
        "execution": {
          "iopub.execute_input": "2022-05-05T13:17:40.709572Z",
          "iopub.status.busy": "2022-05-05T13:17:40.708503Z",
          "iopub.status.idle": "2022-05-05T13:17:40.716037Z",
          "shell.execute_reply": "2022-05-05T13:17:40.714910Z"
        },
        "id": "106aa26b",
        "papermill": {
          "duration": 0.071336,
          "end_time": "2022-05-05T13:17:40.718066",
          "exception": false,
          "start_time": "2022-05-05T13:17:40.646730",
          "status": "completed"
        },
        "tags": []
      },
      "outputs": [],
      "source": [
        "def polarity_scores_roberta(text_sample):\n",
        "    encoded_text = tokenizer(text_sample, return_tensors='pt')\n",
        "    output = model(**encoded_text)\n",
        "    scores = output[0][0].detach().numpy()\n",
        "    scores = softmax(scores)\n",
        "    scores_dict = {\n",
        "        'roberta_neg' : scores[0],\n",
        "        'roberta_neu' : scores[1],\n",
        "        'roberta_pos' : scores[2]\n",
        "    }\n",
        "    return scores_dict"
      ]
    },
    {
      "cell_type": "code",
      "execution_count": 47,
      "id": "4ce5a321",
      "metadata": {
        "colab": {
          "base_uri": "https://localhost:8080/",
          "height": 49,
          "referenced_widgets": [
            "d1d8b7e4ea654629b2e3e5194b7a72fc",
            "b1e9e945a341449b8d67132c252e9244",
            "9492f98760fa42e0a52e4beb9440edbc",
            "59a6fda0f6724c4db7164a7539e857ec",
            "9d24fa120f1642e78f90ad0513127119",
            "362cc8d6d3fb439c846dea1fe2d6a72c",
            "5646238c05274138af9d69a073ed6504",
            "80a2cd846961411eae8f41d6f1da5cee",
            "3a62bb14702c4821941f72f19cc998e1",
            "923b5352f6c74264ada446e21bfa72bb",
            "f85471d3745746e2aa06604053c0a503"
          ]
        },
        "execution": {
          "iopub.execute_input": "2022-05-05T13:17:40.832376Z",
          "iopub.status.busy": "2022-05-05T13:17:40.831785Z",
          "iopub.status.idle": "2022-05-05T13:19:23.171886Z",
          "shell.execute_reply": "2022-05-05T13:19:23.170452Z"
        },
        "id": "4ce5a321",
        "outputId": "be6e4194-28de-4bd2-ee24-e619d252ad03",
        "papermill": {
          "duration": 102.401794,
          "end_time": "2022-05-05T13:19:23.175521",
          "exception": false,
          "start_time": "2022-05-05T13:17:40.773727",
          "status": "completed"
        },
        "tags": []
      },
      "outputs": [
        {
          "data": {
            "application/vnd.jupyter.widget-view+json": {
              "model_id": "d1d8b7e4ea654629b2e3e5194b7a72fc",
              "version_major": 2,
              "version_minor": 0
            },
            "text/plain": [
              "  0%|          | 0/500 [00:00<?, ?it/s]"
            ]
          },
          "metadata": {},
          "output_type": "display_data"
        }
      ],
      "source": [
        "res = {}\n",
        "for i, row in tqdm(df.iterrows(), total=len(df)):\n",
        "    try:\n",
        "        text = row['review_body']\n",
        "        myid = i\n",
        "        vader_result = sia.polarity_scores(text)\n",
        "        vader_result_rename = {}\n",
        "        for key, value in vader_result.items():\n",
        "            vader_result_rename[f\"vader_{key}\"] = value\n",
        "        roberta_result = polarity_scores_roberta(text)\n",
        "        both = {**vader_result_rename, **roberta_result}\n",
        "        res[myid] = both\n",
        "    except RuntimeError:\n",
        "        print(f'Broke for id {myid}')"
      ]
    },
    {
      "cell_type": "code",
      "execution_count": 48,
      "id": "55e542e5",
      "metadata": {
        "execution": {
          "iopub.execute_input": "2022-05-05T13:19:23.320147Z",
          "iopub.status.busy": "2022-05-05T13:19:23.319203Z",
          "iopub.status.idle": "2022-05-05T13:19:23.372276Z",
          "shell.execute_reply": "2022-05-05T13:19:23.371572Z"
        },
        "id": "55e542e5",
        "papermill": {
          "duration": 0.123954,
          "end_time": "2022-05-05T13:19:23.375117",
          "exception": false,
          "start_time": "2022-05-05T13:19:23.251163",
          "status": "completed"
        },
        "tags": []
      },
      "outputs": [],
      "source": [
        "results_df = pd.DataFrame(res).T\n",
        "results_df = results_df.reset_index().rename(columns={'index': 'Id'})\n",
        "results_df = results_df.merge(df, how='left')"
      ]
    },
    {
      "cell_type": "markdown",
      "id": "e011a88a",
      "metadata": {
        "execution": {
          "iopub.execute_input": "2022-05-04T20:13:28.535935Z",
          "iopub.status.busy": "2022-05-04T20:13:28.535656Z",
          "iopub.status.idle": "2022-05-04T20:13:28.558465Z",
          "shell.execute_reply": "2022-05-04T20:13:28.55787Z",
          "shell.execute_reply.started": "2022-05-04T20:13:28.535906Z"
        },
        "id": "e011a88a",
        "papermill": {
          "duration": 0.078435,
          "end_time": "2022-05-05T13:19:23.517301",
          "exception": false,
          "start_time": "2022-05-05T13:19:23.438866",
          "status": "completed"
        },
        "tags": []
      },
      "source": [
        "## Compare Scores between models"
      ]
    },
    {
      "cell_type": "code",
      "execution_count": 50,
      "id": "070b89da",
      "metadata": {
        "colab": {
          "base_uri": "https://localhost:8080/",
          "height": 641
        },
        "execution": {
          "iopub.execute_input": "2022-05-05T13:19:23.679021Z",
          "iopub.status.busy": "2022-05-05T13:19:23.678562Z",
          "iopub.status.idle": "2022-05-05T13:19:23.688358Z",
          "shell.execute_reply": "2022-05-05T13:19:23.687559Z"
        },
        "id": "070b89da",
        "outputId": "7e0d3871-98db-4a09-f50b-52e37ebfc974",
        "papermill": {
          "duration": 0.107915,
          "end_time": "2022-05-05T13:19:23.691814",
          "exception": false,
          "start_time": "2022-05-05T13:19:23.583899",
          "status": "completed"
        },
        "tags": []
      },
      "outputs": [
        {
          "data": {
            "text/html": [
              "\n",
              "  <div id=\"df-5defd583-0dfc-49d4-a3d6-63ebc197cd9d\">\n",
              "    <div class=\"colab-df-container\">\n",
              "      <div>\n",
              "<style scoped>\n",
              "    .dataframe tbody tr th:only-of-type {\n",
              "        vertical-align: middle;\n",
              "    }\n",
              "\n",
              "    .dataframe tbody tr th {\n",
              "        vertical-align: top;\n",
              "    }\n",
              "\n",
              "    .dataframe thead th {\n",
              "        text-align: right;\n",
              "    }\n",
              "</style>\n",
              "<table border=\"1\" class=\"dataframe\">\n",
              "  <thead>\n",
              "    <tr style=\"text-align: right;\">\n",
              "      <th></th>\n",
              "      <th>Id</th>\n",
              "      <th>vader_neg</th>\n",
              "      <th>vader_neu</th>\n",
              "      <th>vader_pos</th>\n",
              "      <th>vader_compound</th>\n",
              "      <th>roberta_neg</th>\n",
              "      <th>roberta_neu</th>\n",
              "      <th>roberta_pos</th>\n",
              "      <th>star_rating</th>\n",
              "      <th>review_body</th>\n",
              "    </tr>\n",
              "  </thead>\n",
              "  <tbody>\n",
              "    <tr>\n",
              "      <th>0</th>\n",
              "      <td>0</td>\n",
              "      <td>0.000</td>\n",
              "      <td>0.597</td>\n",
              "      <td>0.403</td>\n",
              "      <td>0.9665</td>\n",
              "      <td>0.002334</td>\n",
              "      <td>0.010713</td>\n",
              "      <td>0.986953</td>\n",
              "      <td>5</td>\n",
              "      <td>so beautiful even tho clearly not high end ......</td>\n",
              "    </tr>\n",
              "    <tr>\n",
              "      <th>1</th>\n",
              "      <td>1</td>\n",
              "      <td>0.112</td>\n",
              "      <td>0.794</td>\n",
              "      <td>0.094</td>\n",
              "      <td>0.1625</td>\n",
              "      <td>0.016511</td>\n",
              "      <td>0.092473</td>\n",
              "      <td>0.891015</td>\n",
              "      <td>5</td>\n",
              "      <td>Great product.. I got this set for my mother, ...</td>\n",
              "    </tr>\n",
              "    <tr>\n",
              "      <th>2</th>\n",
              "      <td>2</td>\n",
              "      <td>0.000</td>\n",
              "      <td>0.638</td>\n",
              "      <td>0.362</td>\n",
              "      <td>0.9347</td>\n",
              "      <td>0.002375</td>\n",
              "      <td>0.010621</td>\n",
              "      <td>0.987004</td>\n",
              "      <td>5</td>\n",
              "      <td>Exactly as pictured and my daughter's friend l...</td>\n",
              "    </tr>\n",
              "    <tr>\n",
              "      <th>3</th>\n",
              "      <td>3</td>\n",
              "      <td>0.000</td>\n",
              "      <td>0.402</td>\n",
              "      <td>0.598</td>\n",
              "      <td>0.9656</td>\n",
              "      <td>0.001267</td>\n",
              "      <td>0.008212</td>\n",
              "      <td>0.990521</td>\n",
              "      <td>5</td>\n",
              "      <td>Love it. Fits great. Super comfortable and nea...</td>\n",
              "    </tr>\n",
              "    <tr>\n",
              "      <th>4</th>\n",
              "      <td>4</td>\n",
              "      <td>0.000</td>\n",
              "      <td>0.554</td>\n",
              "      <td>0.446</td>\n",
              "      <td>0.9167</td>\n",
              "      <td>0.001195</td>\n",
              "      <td>0.007583</td>\n",
              "      <td>0.991222</td>\n",
              "      <td>5</td>\n",
              "      <td>Got this as a Mother's Day gift for my Mom and...</td>\n",
              "    </tr>\n",
              "    <tr>\n",
              "      <th>...</th>\n",
              "      <td>...</td>\n",
              "      <td>...</td>\n",
              "      <td>...</td>\n",
              "      <td>...</td>\n",
              "      <td>...</td>\n",
              "      <td>...</td>\n",
              "      <td>...</td>\n",
              "      <td>...</td>\n",
              "      <td>...</td>\n",
              "      <td>...</td>\n",
              "    </tr>\n",
              "    <tr>\n",
              "      <th>495</th>\n",
              "      <td>495</td>\n",
              "      <td>0.000</td>\n",
              "      <td>0.541</td>\n",
              "      <td>0.459</td>\n",
              "      <td>0.9272</td>\n",
              "      <td>0.001900</td>\n",
              "      <td>0.017036</td>\n",
              "      <td>0.981064</td>\n",
              "      <td>5</td>\n",
              "      <td>Beautiful piece! Love the fact that it looks l...</td>\n",
              "    </tr>\n",
              "    <tr>\n",
              "      <th>496</th>\n",
              "      <td>496</td>\n",
              "      <td>0.077</td>\n",
              "      <td>0.865</td>\n",
              "      <td>0.058</td>\n",
              "      <td>-0.3167</td>\n",
              "      <td>0.148461</td>\n",
              "      <td>0.514833</td>\n",
              "      <td>0.336706</td>\n",
              "      <td>4</td>\n",
              "      <td>My only complaint is that one of the beads fee...</td>\n",
              "    </tr>\n",
              "    <tr>\n",
              "      <th>497</th>\n",
              "      <td>497</td>\n",
              "      <td>0.000</td>\n",
              "      <td>0.848</td>\n",
              "      <td>0.152</td>\n",
              "      <td>0.3612</td>\n",
              "      <td>0.017673</td>\n",
              "      <td>0.872967</td>\n",
              "      <td>0.109359</td>\n",
              "      <td>4</td>\n",
              "      <td>I have a new visa card I would like to put it ...</td>\n",
              "    </tr>\n",
              "    <tr>\n",
              "      <th>498</th>\n",
              "      <td>498</td>\n",
              "      <td>0.000</td>\n",
              "      <td>0.728</td>\n",
              "      <td>0.272</td>\n",
              "      <td>0.7964</td>\n",
              "      <td>0.045561</td>\n",
              "      <td>0.159957</td>\n",
              "      <td>0.794482</td>\n",
              "      <td>2</td>\n",
              "      <td>I love the concept. I guess I expected better ...</td>\n",
              "    </tr>\n",
              "    <tr>\n",
              "      <th>499</th>\n",
              "      <td>499</td>\n",
              "      <td>0.000</td>\n",
              "      <td>0.962</td>\n",
              "      <td>0.038</td>\n",
              "      <td>0.2500</td>\n",
              "      <td>0.546188</td>\n",
              "      <td>0.345363</td>\n",
              "      <td>0.108449</td>\n",
              "      <td>2</td>\n",
              "      <td>I bought these to wear on my wedding day. They...</td>\n",
              "    </tr>\n",
              "  </tbody>\n",
              "</table>\n",
              "<p>500 rows × 10 columns</p>\n",
              "</div>\n",
              "      <button class=\"colab-df-convert\" onclick=\"convertToInteractive('df-5defd583-0dfc-49d4-a3d6-63ebc197cd9d')\"\n",
              "              title=\"Convert this dataframe to an interactive table.\"\n",
              "              style=\"display:none;\">\n",
              "        \n",
              "  <svg xmlns=\"http://www.w3.org/2000/svg\" height=\"24px\"viewBox=\"0 0 24 24\"\n",
              "       width=\"24px\">\n",
              "    <path d=\"M0 0h24v24H0V0z\" fill=\"none\"/>\n",
              "    <path d=\"M18.56 5.44l.94 2.06.94-2.06 2.06-.94-2.06-.94-.94-2.06-.94 2.06-2.06.94zm-11 1L8.5 8.5l.94-2.06 2.06-.94-2.06-.94L8.5 2.5l-.94 2.06-2.06.94zm10 10l.94 2.06.94-2.06 2.06-.94-2.06-.94-.94-2.06-.94 2.06-2.06.94z\"/><path d=\"M17.41 7.96l-1.37-1.37c-.4-.4-.92-.59-1.43-.59-.52 0-1.04.2-1.43.59L10.3 9.45l-7.72 7.72c-.78.78-.78 2.05 0 2.83L4 21.41c.39.39.9.59 1.41.59.51 0 1.02-.2 1.41-.59l7.78-7.78 2.81-2.81c.8-.78.8-2.07 0-2.86zM5.41 20L4 18.59l7.72-7.72 1.47 1.35L5.41 20z\"/>\n",
              "  </svg>\n",
              "      </button>\n",
              "      \n",
              "  <style>\n",
              "    .colab-df-container {\n",
              "      display:flex;\n",
              "      flex-wrap:wrap;\n",
              "      gap: 12px;\n",
              "    }\n",
              "\n",
              "    .colab-df-convert {\n",
              "      background-color: #E8F0FE;\n",
              "      border: none;\n",
              "      border-radius: 50%;\n",
              "      cursor: pointer;\n",
              "      display: none;\n",
              "      fill: #1967D2;\n",
              "      height: 32px;\n",
              "      padding: 0 0 0 0;\n",
              "      width: 32px;\n",
              "    }\n",
              "\n",
              "    .colab-df-convert:hover {\n",
              "      background-color: #E2EBFA;\n",
              "      box-shadow: 0px 1px 2px rgba(60, 64, 67, 0.3), 0px 1px 3px 1px rgba(60, 64, 67, 0.15);\n",
              "      fill: #174EA6;\n",
              "    }\n",
              "\n",
              "    [theme=dark] .colab-df-convert {\n",
              "      background-color: #3B4455;\n",
              "      fill: #D2E3FC;\n",
              "    }\n",
              "\n",
              "    [theme=dark] .colab-df-convert:hover {\n",
              "      background-color: #434B5C;\n",
              "      box-shadow: 0px 1px 3px 1px rgba(0, 0, 0, 0.15);\n",
              "      filter: drop-shadow(0px 1px 2px rgba(0, 0, 0, 0.3));\n",
              "      fill: #FFFFFF;\n",
              "    }\n",
              "  </style>\n",
              "\n",
              "      <script>\n",
              "        const buttonEl =\n",
              "          document.querySelector('#df-5defd583-0dfc-49d4-a3d6-63ebc197cd9d button.colab-df-convert');\n",
              "        buttonEl.style.display =\n",
              "          google.colab.kernel.accessAllowed ? 'block' : 'none';\n",
              "\n",
              "        async function convertToInteractive(key) {\n",
              "          const element = document.querySelector('#df-5defd583-0dfc-49d4-a3d6-63ebc197cd9d');\n",
              "          const dataTable =\n",
              "            await google.colab.kernel.invokeFunction('convertToInteractive',\n",
              "                                                     [key], {});\n",
              "          if (!dataTable) return;\n",
              "\n",
              "          const docLinkHtml = 'Like what you see? Visit the ' +\n",
              "            '<a target=\"_blank\" href=https://colab.research.google.com/notebooks/data_table.ipynb>data table notebook</a>'\n",
              "            + ' to learn more about interactive tables.';\n",
              "          element.innerHTML = '';\n",
              "          dataTable['output_type'] = 'display_data';\n",
              "          await google.colab.output.renderOutput(dataTable, element);\n",
              "          const docLink = document.createElement('div');\n",
              "          docLink.innerHTML = docLinkHtml;\n",
              "          element.appendChild(docLink);\n",
              "        }\n",
              "      </script>\n",
              "    </div>\n",
              "  </div>\n",
              "  "
            ],
            "text/plain": [
              "      Id  vader_neg  vader_neu  vader_pos  vader_compound  roberta_neg  \\\n",
              "0      0      0.000      0.597      0.403          0.9665     0.002334   \n",
              "1      1      0.112      0.794      0.094          0.1625     0.016511   \n",
              "2      2      0.000      0.638      0.362          0.9347     0.002375   \n",
              "3      3      0.000      0.402      0.598          0.9656     0.001267   \n",
              "4      4      0.000      0.554      0.446          0.9167     0.001195   \n",
              "..   ...        ...        ...        ...             ...          ...   \n",
              "495  495      0.000      0.541      0.459          0.9272     0.001900   \n",
              "496  496      0.077      0.865      0.058         -0.3167     0.148461   \n",
              "497  497      0.000      0.848      0.152          0.3612     0.017673   \n",
              "498  498      0.000      0.728      0.272          0.7964     0.045561   \n",
              "499  499      0.000      0.962      0.038          0.2500     0.546188   \n",
              "\n",
              "     roberta_neu  roberta_pos star_rating  \\\n",
              "0       0.010713     0.986953           5   \n",
              "1       0.092473     0.891015           5   \n",
              "2       0.010621     0.987004           5   \n",
              "3       0.008212     0.990521           5   \n",
              "4       0.007583     0.991222           5   \n",
              "..           ...          ...         ...   \n",
              "495     0.017036     0.981064           5   \n",
              "496     0.514833     0.336706           4   \n",
              "497     0.872967     0.109359           4   \n",
              "498     0.159957     0.794482           2   \n",
              "499     0.345363     0.108449           2   \n",
              "\n",
              "                                           review_body  \n",
              "0    so beautiful even tho clearly not high end ......  \n",
              "1    Great product.. I got this set for my mother, ...  \n",
              "2    Exactly as pictured and my daughter's friend l...  \n",
              "3    Love it. Fits great. Super comfortable and nea...  \n",
              "4    Got this as a Mother's Day gift for my Mom and...  \n",
              "..                                                 ...  \n",
              "495  Beautiful piece! Love the fact that it looks l...  \n",
              "496  My only complaint is that one of the beads fee...  \n",
              "497  I have a new visa card I would like to put it ...  \n",
              "498  I love the concept. I guess I expected better ...  \n",
              "499  I bought these to wear on my wedding day. They...  \n",
              "\n",
              "[500 rows x 10 columns]"
            ]
          },
          "execution_count": 50,
          "metadata": {},
          "output_type": "execute_result"
        }
      ],
      "source": [
        "results_df"
      ]
    },
    {
      "cell_type": "markdown",
      "id": "b6193063",
      "metadata": {
        "id": "b6193063",
        "papermill": {
          "duration": 0.063959,
          "end_time": "2022-05-05T13:19:23.833747",
          "exception": false,
          "start_time": "2022-05-05T13:19:23.769788",
          "status": "completed"
        },
        "tags": []
      },
      "source": [
        "# Comparing visualization"
      ]
    },
    {
      "cell_type": "code",
      "execution_count": 115,
      "id": "KVMs3bRDp6Fe",
      "metadata": {
        "colab": {
          "base_uri": "https://localhost:8080/",
          "height": 369
        },
        "id": "KVMs3bRDp6Fe",
        "outputId": "09dbe8a1-b260-4679-d106-8c5a952ab16a"
      },
      "outputs": [
        {
          "data": {
            "image/png": "[encoded data removed]",
            "text/plain": [
              "<Figure size 1080x360 with 4 Axes>"
            ]
          },
          "metadata": {},
          "output_type": "display_data"
        }
      ],
      "source": [
        "fig, axs = plt.subplots(1, 4, figsize=(15, 5))\n",
        "sns.barplot(data=results_df, x='star_rating', y='vader_pos', ax=axs[0])\n",
        "sns.barplot(data=results_df, x='star_rating', y='vader_neu', ax=axs[1])\n",
        "sns.barplot(data=results_df, x='star_rating', y='vader_neg', ax=axs[2])\n",
        "sns.barplot(data=results_df, x='star_rating', y='vader_compound', ax=axs[3])\n",
        "axs[0].set_title('Vader Positive')\n",
        "axs[1].set_title('Vader Neutral')\n",
        "axs[2].set_title('Vader Negative')\n",
        "axs[3].set_title('Vader Compound')\n",
        "plt.tight_layout()\n",
        "plt.show()"
      ]
    },
    {
      "cell_type": "code",
      "execution_count": 116,
      "id": "aE39-xy3qTcE",
      "metadata": {
        "colab": {
          "base_uri": "https://localhost:8080/",
          "height": 369
        },
        "id": "aE39-xy3qTcE",
        "outputId": "ce817018-1e4a-4524-e4fc-324e4d0528ba"
      },
      "outputs": [
        {
          "data": {
            "image/png": "[encoded data removed]",
            "text/plain": [
              "<Figure size 1080x360 with 3 Axes>"
            ]
          },
          "metadata": {},
          "output_type": "display_data"
        }
      ],
      "source": [
        "fig, axs = plt.subplots(1, 3, figsize=(15, 5))\n",
        "sns.barplot(data=results_df, x='star_rating', y='roberta_pos', ax=axs[0])\n",
        "sns.barplot(data=results_df, x='star_rating', y='roberta_neu', ax=axs[1])\n",
        "sns.barplot(data=results_df, x='star_rating', y='roberta_neg', ax=axs[2])\n",
        "axs[0].set_title('Roberta Positive')\n",
        "axs[1].set_title('Roberta Neutral')\n",
        "axs[2].set_title('Roberta Negative')\n",
        "plt.tight_layout()\n",
        "plt.show()"
      ]
    },
    {
      "cell_type": "code",
      "execution_count": 143,
      "id": "a7c2ed2f",
      "metadata": {
        "colab": {
          "base_uri": "https://localhost:8080/",
          "height": 1000
        },
        "execution": {
          "iopub.execute_input": "2022-05-05T13:19:23.967863Z",
          "iopub.status.busy": "2022-05-05T13:19:23.967211Z",
          "iopub.status.idle": "2022-05-05T13:19:36.168088Z",
          "shell.execute_reply": "2022-05-05T13:19:36.167286Z"
        },
        "id": "a7c2ed2f",
        "outputId": "4a134b1b-330c-44c4-d25f-8023517f7873",
        "papermill": {
          "duration": 12.27941,
          "end_time": "2022-05-05T13:19:36.178559",
          "exception": false,
          "start_time": "2022-05-05T13:19:23.899149",
          "status": "completed"
        },
        "tags": []
      },
      "outputs": [
        {
          "data": {
            "image/png": "[encoded data removed]",
            "text/plain": [
              "<Figure size 1142.12x1080 with 42 Axes>"
            ]
          },
          "metadata": {},
          "output_type": "display_data"
        }
      ],
      "source": [
        "sns.pairplot(data=results_df,\n",
        "             vars=['vader_neg', 'vader_neu', 'vader_pos',\n",
        "                  'roberta_neg', 'roberta_neu', 'roberta_pos'],\n",
        "            hue='star_rating',\n",
        "            palette='tab10')\n",
        "plt.show()"
      ]
    },
    {
      "cell_type": "markdown",
      "id": "7ff79fef",
      "metadata": {
        "id": "7ff79fef",
        "papermill": {
          "duration": 0.076545,
          "end_time": "2022-05-05T13:19:36.331105",
          "exception": false,
          "start_time": "2022-05-05T13:19:36.254560",
          "status": "completed"
        },
        "tags": []
      },
      "source": [
        "# Review Examples\n",
        "\n",
        "Lets look at some examples where the model scoring and review score differ the most."
      ]
    },
    {
      "cell_type": "code",
      "execution_count": 138,
      "id": "9af7ab12",
      "metadata": {
        "colab": {
          "base_uri": "https://localhost:8080/",
          "height": 36
        },
        "execution": {
          "iopub.execute_input": "2022-05-05T13:19:36.487022Z",
          "iopub.status.busy": "2022-05-05T13:19:36.486435Z",
          "iopub.status.idle": "2022-05-05T13:19:36.501635Z",
          "shell.execute_reply": "2022-05-05T13:19:36.500884Z"
        },
        "id": "9af7ab12",
        "outputId": "8ff3953f-0070-448e-f720-b89a07959ca1",
        "papermill": {
          "duration": 0.09598,
          "end_time": "2022-05-05T13:19:36.503866",
          "exception": false,
          "start_time": "2022-05-05T13:19:36.407886",
          "status": "completed"
        },
        "tags": []
      },
      "outputs": [
        {
          "data": {
            "application/vnd.google.colaboratory.intrinsic+json": {
              "type": "string"
            },
            "text/plain": [
              "'It is a gift for Sept 2.  I hope it fits her bracelet.  Not sure yet.'"
            ]
          },
          "execution_count": 138,
          "metadata": {},
          "output_type": "execute_result"
        }
      ],
      "source": [
        "results_df.query('star_rating == 1') \\\n",
        "    .sort_values('roberta_pos', ascending=False)['review_body'].values[0]"
      ]
    },
    {
      "cell_type": "code",
      "execution_count": 140,
      "id": "35d0b663",
      "metadata": {
        "colab": {
          "base_uri": "https://localhost:8080/",
          "height": 36
        },
        "execution": {
          "iopub.execute_input": "2022-05-05T13:19:36.661786Z",
          "iopub.status.busy": "2022-05-05T13:19:36.661266Z",
          "iopub.status.idle": "2022-05-05T13:19:36.670602Z",
          "shell.execute_reply": "2022-05-05T13:19:36.669893Z"
        },
        "id": "35d0b663",
        "outputId": "6c4d9d1a-8b1f-4281-c74b-30447d1b5af3",
        "papermill": {
          "duration": 0.090222,
          "end_time": "2022-05-05T13:19:36.672801",
          "exception": false,
          "start_time": "2022-05-05T13:19:36.582579",
          "status": "completed"
        },
        "tags": []
      },
      "outputs": [
        {
          "data": {
            "application/vnd.google.colaboratory.intrinsic+json": {
              "type": "string"
            },
            "text/plain": [
              "'It is a gift for Sept 2.  I hope it fits her bracelet.  Not sure yet.'"
            ]
          },
          "execution_count": 140,
          "metadata": {},
          "output_type": "execute_result"
        }
      ],
      "source": [
        "results_df.query('star_rating == 1') \\\n",
        "    .sort_values('vader_pos', ascending=False)['review_body'].values[0]"
      ]
    },
    {
      "cell_type": "code",
      "execution_count": 141,
      "id": "fef6e269",
      "metadata": {
        "colab": {
          "base_uri": "https://localhost:8080/",
          "height": 36
        },
        "execution": {
          "iopub.execute_input": "2022-05-05T13:19:36.994630Z",
          "iopub.status.busy": "2022-05-05T13:19:36.993976Z",
          "iopub.status.idle": "2022-05-05T13:19:37.004608Z",
          "shell.execute_reply": "2022-05-05T13:19:37.003840Z"
        },
        "id": "fef6e269",
        "outputId": "a9ebc201-cbc5-41c0-871b-4a4bec759d60",
        "papermill": {
          "duration": 0.092678,
          "end_time": "2022-05-05T13:19:37.006708",
          "exception": false,
          "start_time": "2022-05-05T13:19:36.914030",
          "status": "completed"
        },
        "tags": []
      },
      "outputs": [
        {
          "data": {
            "application/vnd.google.colaboratory.intrinsic+json": {
              "type": "string"
            },
            "text/plain": [
              "'Necklace was way to small.'"
            ]
          },
          "execution_count": 141,
          "metadata": {},
          "output_type": "execute_result"
        }
      ],
      "source": [
        "results_df.query('star_rating == 5') \\\n",
        "    .sort_values('roberta_neg', ascending=False)['review_body'].values[0]"
      ]
    },
    {
      "cell_type": "code",
      "execution_count": 142,
      "id": "ee500315",
      "metadata": {
        "colab": {
          "base_uri": "https://localhost:8080/",
          "height": 36
        },
        "execution": {
          "iopub.execute_input": "2022-05-05T13:19:37.165281Z",
          "iopub.status.busy": "2022-05-05T13:19:37.164635Z",
          "iopub.status.idle": "2022-05-05T13:19:37.174175Z",
          "shell.execute_reply": "2022-05-05T13:19:37.173617Z"
        },
        "id": "ee500315",
        "outputId": "5373a7fb-6f10-4247-cdca-dbf3d73a428d",
        "papermill": {
          "duration": 0.091501,
          "end_time": "2022-05-05T13:19:37.176042",
          "exception": false,
          "start_time": "2022-05-05T13:19:37.084541",
          "status": "completed"
        },
        "tags": []
      },
      "outputs": [
        {
          "data": {
            "application/vnd.google.colaboratory.intrinsic+json": {
              "type": "string"
            },
            "text/plain": [
              "'Great! Looks good. Awesome price. No complaints.'"
            ]
          },
          "execution_count": 142,
          "metadata": {},
          "output_type": "execute_result"
        }
      ],
      "source": [
        "results_df.query('star_rating == 5') \\\n",
        "    .sort_values('vader_neg', ascending=False)['review_body'].values[0]"
      ]
    },
    {
      "cell_type": "markdown",
      "id": "9fc72a7b",
      "metadata": {
        "id": "9fc72a7b",
        "papermill": {
          "duration": 0.079012,
          "end_time": "2022-05-05T13:19:37.334439",
          "exception": false,
          "start_time": "2022-05-05T13:19:37.255427",
          "status": "completed"
        },
        "tags": []
      },
      "source": [
        "# Extra: The Transformers Pipeline\n",
        "- Quick & easy way to run sentiment predictions"
      ]
    },
    {
      "cell_type": "code",
      "execution_count": 97,
      "id": "5ea6c156",
      "metadata": {
        "colab": {
          "base_uri": "https://localhost:8080/"
        },
        "execution": {
          "iopub.execute_input": "2022-05-05T13:19:37.496074Z",
          "iopub.status.busy": "2022-05-05T13:19:37.495374Z",
          "iopub.status.idle": "2022-05-05T13:20:00.560131Z",
          "shell.execute_reply": "2022-05-05T13:20:00.559124Z"
        },
        "id": "5ea6c156",
        "outputId": "ccdb881d-239d-4be4-ed47-eb9d636a723a",
        "papermill": {
          "duration": 23.148785,
          "end_time": "2022-05-05T13:20:00.562817",
          "exception": false,
          "start_time": "2022-05-05T13:19:37.414032",
          "status": "completed"
        },
        "tags": []
      },
      "outputs": [
        {
          "name": "stderr",
          "output_type": "stream",
          "text": [
            "No model was supplied, defaulted to distilbert-base-uncased-finetuned-sst-2-english and revision af0f99b (https://huggingface.co/distilbert-base-uncased-finetuned-sst-2-english).\n",
            "Using a pipeline without specifying a model name and revision in production is not recommended.\n"
          ]
        }
      ],
      "source": [
        "from transformers import pipeline\n",
        "\n",
        "tfm_pipeline = pipeline(\"sentiment-analysis\")"
      ]
    },
    {
      "cell_type": "code",
      "execution_count": 96,
      "id": "dc6a909f",
      "metadata": {
        "colab": {
          "base_uri": "https://localhost:8080/"
        },
        "execution": {
          "iopub.execute_input": "2022-05-05T13:20:00.730097Z",
          "iopub.status.busy": "2022-05-05T13:20:00.729084Z",
          "iopub.status.idle": "2022-05-05T13:20:00.772425Z",
          "shell.execute_reply": "2022-05-05T13:20:00.771663Z"
        },
        "id": "dc6a909f",
        "outputId": "44fea2b3-cee8-4164-b335-281df012e901",
        "papermill": {
          "duration": 0.130164,
          "end_time": "2022-05-05T13:20:00.775018",
          "exception": false,
          "start_time": "2022-05-05T13:20:00.644854",
          "status": "completed"
        },
        "tags": []
      },
      "outputs": [
        {
          "data": {
            "text/plain": [
              "[{'label': 'POSITIVE', 'score': 0.9997853636741638}]"
            ]
          },
          "execution_count": 96,
          "metadata": {},
          "output_type": "execute_result"
        }
      ],
      "source": [
        "tfm_pipeline('I love sentiment analysis!')"
      ]
    },
    {
      "cell_type": "code",
      "execution_count": 131,
      "id": "-mn-iJ6am9lp",
      "metadata": {
        "id": "-mn-iJ6am9lp"
      },
      "outputs": [],
      "source": [
        "transformer_pipeline = tfm_pipeline(list(df['review_body']))"
      ]
    },
    {
      "cell_type": "code",
      "execution_count": 132,
      "id": "PQn2_iMFt6lG",
      "metadata": {
        "id": "PQn2_iMFt6lG"
      },
      "outputs": [],
      "source": [
        "tfm_pipeline_df = pd.DataFrame(transformer_pipeline)"
      ]
    },
    {
      "cell_type": "code",
      "execution_count": 133,
      "id": "PZifamaMuIxz",
      "metadata": {
        "colab": {
          "base_uri": "https://localhost:8080/",
          "height": 423
        },
        "id": "PZifamaMuIxz",
        "outputId": "3cf619be-1025-48da-f9af-34dfae16e689"
      },
      "outputs": [
        {
          "data": {
            "text/html": [
              "\n",
              "  <div id=\"df-708aaf8a-cb0c-4261-a469-5e73f122cbf9\">\n",
              "    <div class=\"colab-df-container\">\n",
              "      <div>\n",
              "<style scoped>\n",
              "    .dataframe tbody tr th:only-of-type {\n",
              "        vertical-align: middle;\n",
              "    }\n",
              "\n",
              "    .dataframe tbody tr th {\n",
              "        vertical-align: top;\n",
              "    }\n",
              "\n",
              "    .dataframe thead th {\n",
              "        text-align: right;\n",
              "    }\n",
              "</style>\n",
              "<table border=\"1\" class=\"dataframe\">\n",
              "  <thead>\n",
              "    <tr style=\"text-align: right;\">\n",
              "      <th></th>\n",
              "      <th>label</th>\n",
              "      <th>score</th>\n",
              "    </tr>\n",
              "  </thead>\n",
              "  <tbody>\n",
              "    <tr>\n",
              "      <th>0</th>\n",
              "      <td>POSITIVE</td>\n",
              "      <td>0.999627</td>\n",
              "    </tr>\n",
              "    <tr>\n",
              "      <th>1</th>\n",
              "      <td>POSITIVE</td>\n",
              "      <td>0.991643</td>\n",
              "    </tr>\n",
              "    <tr>\n",
              "      <th>2</th>\n",
              "      <td>POSITIVE</td>\n",
              "      <td>0.999720</td>\n",
              "    </tr>\n",
              "    <tr>\n",
              "      <th>3</th>\n",
              "      <td>POSITIVE</td>\n",
              "      <td>0.999884</td>\n",
              "    </tr>\n",
              "    <tr>\n",
              "      <th>4</th>\n",
              "      <td>POSITIVE</td>\n",
              "      <td>0.999885</td>\n",
              "    </tr>\n",
              "    <tr>\n",
              "      <th>...</th>\n",
              "      <td>...</td>\n",
              "      <td>...</td>\n",
              "    </tr>\n",
              "    <tr>\n",
              "      <th>495</th>\n",
              "      <td>POSITIVE</td>\n",
              "      <td>0.999878</td>\n",
              "    </tr>\n",
              "    <tr>\n",
              "      <th>496</th>\n",
              "      <td>POSITIVE</td>\n",
              "      <td>0.531685</td>\n",
              "    </tr>\n",
              "    <tr>\n",
              "      <th>497</th>\n",
              "      <td>NEGATIVE</td>\n",
              "      <td>0.886866</td>\n",
              "    </tr>\n",
              "    <tr>\n",
              "      <th>498</th>\n",
              "      <td>NEGATIVE</td>\n",
              "      <td>0.958053</td>\n",
              "    </tr>\n",
              "    <tr>\n",
              "      <th>499</th>\n",
              "      <td>NEGATIVE</td>\n",
              "      <td>0.768653</td>\n",
              "    </tr>\n",
              "  </tbody>\n",
              "</table>\n",
              "<p>500 rows × 2 columns</p>\n",
              "</div>\n",
              "      <button class=\"colab-df-convert\" onclick=\"convertToInteractive('df-708aaf8a-cb0c-4261-a469-5e73f122cbf9')\"\n",
              "              title=\"Convert this dataframe to an interactive table.\"\n",
              "              style=\"display:none;\">\n",
              "        \n",
              "  <svg xmlns=\"http://www.w3.org/2000/svg\" height=\"24px\"viewBox=\"0 0 24 24\"\n",
              "       width=\"24px\">\n",
              "    <path d=\"M0 0h24v24H0V0z\" fill=\"none\"/>\n",
              "    <path d=\"M18.56 5.44l.94 2.06.94-2.06 2.06-.94-2.06-.94-.94-2.06-.94 2.06-2.06.94zm-11 1L8.5 8.5l.94-2.06 2.06-.94-2.06-.94L8.5 2.5l-.94 2.06-2.06.94zm10 10l.94 2.06.94-2.06 2.06-.94-2.06-.94-.94-2.06-.94 2.06-2.06.94z\"/><path d=\"M17.41 7.96l-1.37-1.37c-.4-.4-.92-.59-1.43-.59-.52 0-1.04.2-1.43.59L10.3 9.45l-7.72 7.72c-.78.78-.78 2.05 0 2.83L4 21.41c.39.39.9.59 1.41.59.51 0 1.02-.2 1.41-.59l7.78-7.78 2.81-2.81c.8-.78.8-2.07 0-2.86zM5.41 20L4 18.59l7.72-7.72 1.47 1.35L5.41 20z\"/>\n",
              "  </svg>\n",
              "      </button>\n",
              "      \n",
              "  <style>\n",
              "    .colab-df-container {\n",
              "      display:flex;\n",
              "      flex-wrap:wrap;\n",
              "      gap: 12px;\n",
              "    }\n",
              "\n",
              "    .colab-df-convert {\n",
              "      background-color: #E8F0FE;\n",
              "      border: none;\n",
              "      border-radius: 50%;\n",
              "      cursor: pointer;\n",
              "      display: none;\n",
              "      fill: #1967D2;\n",
              "      height: 32px;\n",
              "      padding: 0 0 0 0;\n",
              "      width: 32px;\n",
              "    }\n",
              "\n",
              "    .colab-df-convert:hover {\n",
              "      background-color: #E2EBFA;\n",
              "      box-shadow: 0px 1px 2px rgba(60, 64, 67, 0.3), 0px 1px 3px 1px rgba(60, 64, 67, 0.15);\n",
              "      fill: #174EA6;\n",
              "    }\n",
              "\n",
              "    [theme=dark] .colab-df-convert {\n",
              "      background-color: #3B4455;\n",
              "      fill: #D2E3FC;\n",
              "    }\n",
              "\n",
              "    [theme=dark] .colab-df-convert:hover {\n",
              "      background-color: #434B5C;\n",
              "      box-shadow: 0px 1px 3px 1px rgba(0, 0, 0, 0.15);\n",
              "      filter: drop-shadow(0px 1px 2px rgba(0, 0, 0, 0.3));\n",
              "      fill: #FFFFFF;\n",
              "    }\n",
              "  </style>\n",
              "\n",
              "      <script>\n",
              "        const buttonEl =\n",
              "          document.querySelector('#df-708aaf8a-cb0c-4261-a469-5e73f122cbf9 button.colab-df-convert');\n",
              "        buttonEl.style.display =\n",
              "          google.colab.kernel.accessAllowed ? 'block' : 'none';\n",
              "\n",
              "        async function convertToInteractive(key) {\n",
              "          const element = document.querySelector('#df-708aaf8a-cb0c-4261-a469-5e73f122cbf9');\n",
              "          const dataTable =\n",
              "            await google.colab.kernel.invokeFunction('convertToInteractive',\n",
              "                                                     [key], {});\n",
              "          if (!dataTable) return;\n",
              "\n",
              "          const docLinkHtml = 'Like what you see? Visit the ' +\n",
              "            '<a target=\"_blank\" href=https://colab.research.google.com/notebooks/data_table.ipynb>data table notebook</a>'\n",
              "            + ' to learn more about interactive tables.';\n",
              "          element.innerHTML = '';\n",
              "          dataTable['output_type'] = 'display_data';\n",
              "          await google.colab.output.renderOutput(dataTable, element);\n",
              "          const docLink = document.createElement('div');\n",
              "          docLink.innerHTML = docLinkHtml;\n",
              "          element.appendChild(docLink);\n",
              "        }\n",
              "      </script>\n",
              "    </div>\n",
              "  </div>\n",
              "  "
            ],
            "text/plain": [
              "        label     score\n",
              "0    POSITIVE  0.999627\n",
              "1    POSITIVE  0.991643\n",
              "2    POSITIVE  0.999720\n",
              "3    POSITIVE  0.999884\n",
              "4    POSITIVE  0.999885\n",
              "..        ...       ...\n",
              "495  POSITIVE  0.999878\n",
              "496  POSITIVE  0.531685\n",
              "497  NEGATIVE  0.886866\n",
              "498  NEGATIVE  0.958053\n",
              "499  NEGATIVE  0.768653\n",
              "\n",
              "[500 rows x 2 columns]"
            ]
          },
          "execution_count": 133,
          "metadata": {},
          "output_type": "execute_result"
        }
      ],
      "source": [
        "tfm_pipeline_df"
      ]
    },
    {
      "cell_type": "code",
      "execution_count": 134,
      "id": "2fkf_5S7uJqt",
      "metadata": {
        "colab": {
          "base_uri": "https://localhost:8080/"
        },
        "id": "2fkf_5S7uJqt",
        "outputId": "2b56fcda-ac10-46df-9946-e9e6e317acc0"
      },
      "outputs": [
        {
          "data": {
            "text/plain": [
              "POSITIVE    383\n",
              "NEGATIVE    117\n",
              "Name: label, dtype: int64"
            ]
          },
          "execution_count": 134,
          "metadata": {},
          "output_type": "execute_result"
        }
      ],
      "source": [
        "tfm_pipeline_df['label'].value_counts()"
      ]
    },
    {
      "cell_type": "markdown",
      "id": "06466a82",
      "metadata": {
        "id": "06466a82",
        "papermill": {
          "duration": 0.081701,
          "end_time": "2022-05-05T13:20:01.361284",
          "exception": false,
          "start_time": "2022-05-05T13:20:01.279583",
          "status": "completed"
        },
        "tags": []
      },
      "source": [
        "# The End"
      ]
    }
  ],
  "metadata": {
    "colab": {
      "provenance": []
    },
    "kernelspec": {
      "display_name": "Python 3",
      "language": "python",
      "name": "python3"
    },
    "language_info": {
      "codemirror_mode": {
        "name": "ipython",
        "version": 3
      },
      "file_extension": ".py",
      "mimetype": "text/x-python",
      "name": "python",
      "nbconvert_exporter": "python",
      "pygments_lexer": "ipython3",
      "version": "3.7.12"
    },
    "papermill": {
      "default_parameters": {},
      "duration": 209.894032,
      "end_time": "2022-05-05T13:20:04.520385",
      "environment_variables": {},
      "exception": null,
      "input_path": "__notebook__.ipynb",
      "output_path": "__notebook__.ipynb",
      "parameters": {},
      "start_time": "2022-05-05T13:16:34.626353",
      "version": "2.3.4"
    },
    "widgets": {
      "application/vnd.jupyter.widget-state+json": {
        "0186c6fc47fc4a5ab2c568f6988925a2": {
          "model_module": "@jupyter-widgets/base",
          "model_module_version": "1.2.0",
          "model_name": "LayoutModel",
          "state": {
            "_model_module": "@jupyter-widgets/base",
            "_model_module_version": "1.2.0",
            "_model_name": "LayoutModel",
            "_view_count": null,
            "_view_module": "@jupyter-widgets/base",
            "_view_module_version": "1.2.0",
            "_view_name": "LayoutView",
            "align_content": null,
            "align_items": null,
            "align_self": null,
            "border": null,
            "bottom": null,
            "display": null,
            "flex": null,
            "flex_flow": null,
            "grid_area": null,
            "grid_auto_columns": null,
            "grid_auto_flow": null,
            "grid_auto_rows": null,
            "grid_column": null,
            "grid_gap": null,
            "grid_row": null,
            "grid_template_areas": null,
            "grid_template_columns": null,
            "grid_template_rows": null,
            "height": null,
            "justify_content": null,
            "justify_items": null,
            "left": null,
            "margin": null,
            "max_height": null,
            "max_width": null,
            "min_height": null,
            "min_width": null,
            "object_fit": null,
            "object_position": null,
            "order": null,
            "overflow": null,
            "overflow_x": null,
            "overflow_y": null,
            "padding": null,
            "right": null,
            "top": null,
            "visibility": null,
            "width": null
          }
        },
        "05a5e315d4b746579b533048e49a788d": {
          "model_module": "@jupyter-widgets/controls",
          "model_module_version": "1.5.0",
          "model_name": "HBoxModel",
          "state": {
            "_dom_classes": [],
            "_model_module": "@jupyter-widgets/controls",
            "_model_module_version": "1.5.0",
            "_model_name": "HBoxModel",
            "_view_count": null,
            "_view_module": "@jupyter-widgets/controls",
            "_view_module_version": "1.5.0",
            "_view_name": "HBoxView",
            "box_style": "",
            "children": [
              "IPY_MODEL_ba379f01990e4b6fb0b74c909340ac08",
              "IPY_MODEL_59e2cf251b1e47f29e248291b9ca55cb",
              "IPY_MODEL_0ab9759c49cb4c8a9a89050bae7950e9"
            ],
            "layout": "IPY_MODEL_50b4464b23a745aab99260890740cc52"
          }
        },
        "05f3f7c029ba4ee1bc3e3f53b2e058b8": {
          "model_module": "@jupyter-widgets/base",
          "model_module_version": "1.2.0",
          "model_name": "LayoutModel",
          "state": {
            "_model_module": "@jupyter-widgets/base",
            "_model_module_version": "1.2.0",
            "_model_name": "LayoutModel",
            "_view_count": null,
            "_view_module": "@jupyter-widgets/base",
            "_view_module_version": "1.2.0",
            "_view_name": "LayoutView",
            "align_content": null,
            "align_items": null,
            "align_self": null,
            "border": null,
            "bottom": null,
            "display": null,
            "flex": null,
            "flex_flow": null,
            "grid_area": null,
            "grid_auto_columns": null,
            "grid_auto_flow": null,
            "grid_auto_rows": null,
            "grid_column": null,
            "grid_gap": null,
            "grid_row": null,
            "grid_template_areas": null,
            "grid_template_columns": null,
            "grid_template_rows": null,
            "height": null,
            "justify_content": null,
            "justify_items": null,
            "left": null,
            "margin": null,
            "max_height": null,
            "max_width": null,
            "min_height": null,
            "min_width": null,
            "object_fit": null,
            "object_position": null,
            "order": null,
            "overflow": null,
            "overflow_x": null,
            "overflow_y": null,
            "padding": null,
            "right": null,
            "top": null,
            "visibility": null,
            "width": null
          }
        },
        "0ab9759c49cb4c8a9a89050bae7950e9": {
          "model_module": "@jupyter-widgets/controls",
          "model_module_version": "1.5.0",
          "model_name": "HTMLModel",
          "state": {
            "_dom_classes": [],
            "_model_module": "@jupyter-widgets/controls",
            "_model_module_version": "1.5.0",
            "_model_name": "HTMLModel",
            "_view_count": null,
            "_view_module": "@jupyter-widgets/controls",
            "_view_module_version": "1.5.0",
            "_view_name": "HTMLView",
            "description": "",
            "description_tooltip": null,
            "layout": "IPY_MODEL_05f3f7c029ba4ee1bc3e3f53b2e058b8",
            "placeholder": "​",
            "style": "IPY_MODEL_0bbf2bec7ad54168b72039add57ad4cd",
            "value": " 747/747 [00:00&lt;00:00, 13.9kB/s]"
          }
        },
        "0bbf2bec7ad54168b72039add57ad4cd": {
          "model_module": "@jupyter-widgets/controls",
          "model_module_version": "1.5.0",
          "model_name": "DescriptionStyleModel",
          "state": {
            "_model_module": "@jupyter-widgets/controls",
            "_model_module_version": "1.5.0",
            "_model_name": "DescriptionStyleModel",
            "_view_count": null,
            "_view_module": "@jupyter-widgets/base",
            "_view_module_version": "1.2.0",
            "_view_name": "StyleView",
            "description_width": ""
          }
        },
        "11a999edb5aa4c8790a25b147fc6f256": {
          "model_module": "@jupyter-widgets/controls",
          "model_module_version": "1.5.0",
          "model_name": "DescriptionStyleModel",
          "state": {
            "_model_module": "@jupyter-widgets/controls",
            "_model_module_version": "1.5.0",
            "_model_name": "DescriptionStyleModel",
            "_view_count": null,
            "_view_module": "@jupyter-widgets/base",
            "_view_module_version": "1.2.0",
            "_view_name": "StyleView",
            "description_width": ""
          }
        },
        "1b5d8d8e7fdd479682f8c6ba57a5776a": {
          "model_module": "@jupyter-widgets/controls",
          "model_module_version": "1.5.0",
          "model_name": "ProgressStyleModel",
          "state": {
            "_model_module": "@jupyter-widgets/controls",
            "_model_module_version": "1.5.0",
            "_model_name": "ProgressStyleModel",
            "_view_count": null,
            "_view_module": "@jupyter-widgets/base",
            "_view_module_version": "1.2.0",
            "_view_name": "StyleView",
            "bar_color": null,
            "description_width": ""
          }
        },
        "208e40fa33234a3ab2a27e1380146e7f": {
          "model_module": "@jupyter-widgets/controls",
          "model_module_version": "1.5.0",
          "model_name": "DescriptionStyleModel",
          "state": {
            "_model_module": "@jupyter-widgets/controls",
            "_model_module_version": "1.5.0",
            "_model_name": "DescriptionStyleModel",
            "_view_count": null,
            "_view_module": "@jupyter-widgets/base",
            "_view_module_version": "1.2.0",
            "_view_name": "StyleView",
            "description_width": ""
          }
        },
        "22e719009958459299efacc8d4809fac": {
          "model_module": "@jupyter-widgets/controls",
          "model_module_version": "1.5.0",
          "model_name": "HBoxModel",
          "state": {
            "_dom_classes": [],
            "_model_module": "@jupyter-widgets/controls",
            "_model_module_version": "1.5.0",
            "_model_name": "HBoxModel",
            "_view_count": null,
            "_view_module": "@jupyter-widgets/controls",
            "_view_module_version": "1.5.0",
            "_view_name": "HBoxView",
            "box_style": "",
            "children": [
              "IPY_MODEL_b6e7167246414e6eacb9d2151eea0620",
              "IPY_MODEL_fc65badb9acd4268bb5d1c8ba10f7f33",
              "IPY_MODEL_41d89f22e6d441f3a11526f4638ea0c5"
            ],
            "layout": "IPY_MODEL_d6ac02b7ec1647fa9a64bc26c0c81ac7"
          }
        },
        "23de13f54acd42efb3d2b42c35092b80": {
          "model_module": "@jupyter-widgets/controls",
          "model_module_version": "1.5.0",
          "model_name": "HTMLModel",
          "state": {
            "_dom_classes": [],
            "_model_module": "@jupyter-widgets/controls",
            "_model_module_version": "1.5.0",
            "_model_name": "HTMLModel",
            "_view_count": null,
            "_view_module": "@jupyter-widgets/controls",
            "_view_module_version": "1.5.0",
            "_view_name": "HTMLView",
            "description": "",
            "description_tooltip": null,
            "layout": "IPY_MODEL_fdcaa028ed6845faaf4fd920d67931a6",
            "placeholder": "​",
            "style": "IPY_MODEL_537e5b63e82042749fe8cc60a0bd6f4b",
            "value": "Downloading (…)&quot;pytorch_model.bin&quot;;: 100%"
          }
        },
        "248756d616db44f2a6541d0578f81722": {
          "model_module": "@jupyter-widgets/controls",
          "model_module_version": "1.5.0",
          "model_name": "FloatProgressModel",
          "state": {
            "_dom_classes": [],
            "_model_module": "@jupyter-widgets/controls",
            "_model_module_version": "1.5.0",
            "_model_name": "FloatProgressModel",
            "_view_count": null,
            "_view_module": "@jupyter-widgets/controls",
            "_view_module_version": "1.5.0",
            "_view_name": "ProgressView",
            "bar_style": "success",
            "description": "",
            "description_tooltip": null,
            "layout": "IPY_MODEL_29b7a82bd4af421a9d94c10c449226da",
            "max": 150,
            "min": 0,
            "orientation": "horizontal",
            "style": "IPY_MODEL_63966813b8ac4bc4a823f3b8c1bc3626",
            "value": 150
          }
        },
        "252b0a4d98ea4474836cf3546518b56f": {
          "model_module": "@jupyter-widgets/base",
          "model_module_version": "1.2.0",
          "model_name": "LayoutModel",
          "state": {
            "_model_module": "@jupyter-widgets/base",
            "_model_module_version": "1.2.0",
            "_model_name": "LayoutModel",
            "_view_count": null,
            "_view_module": "@jupyter-widgets/base",
            "_view_module_version": "1.2.0",
            "_view_name": "LayoutView",
            "align_content": null,
            "align_items": null,
            "align_self": null,
            "border": null,
            "bottom": null,
            "display": null,
            "flex": null,
            "flex_flow": null,
            "grid_area": null,
            "grid_auto_columns": null,
            "grid_auto_flow": null,
            "grid_auto_rows": null,
            "grid_column": null,
            "grid_gap": null,
            "grid_row": null,
            "grid_template_areas": null,
            "grid_template_columns": null,
            "grid_template_rows": null,
            "height": null,
            "justify_content": null,
            "justify_items": null,
            "left": null,
            "margin": null,
            "max_height": null,
            "max_width": null,
            "min_height": null,
            "min_width": null,
            "object_fit": null,
            "object_position": null,
            "order": null,
            "overflow": null,
            "overflow_x": null,
            "overflow_y": null,
            "padding": null,
            "right": null,
            "top": null,
            "visibility": null,
            "width": null
          }
        },
        "25603894e84d4de8bb2c50097b09b1a6": {
          "model_module": "@jupyter-widgets/base",
          "model_module_version": "1.2.0",
          "model_name": "LayoutModel",
          "state": {
            "_model_module": "@jupyter-widgets/base",
            "_model_module_version": "1.2.0",
            "_model_name": "LayoutModel",
            "_view_count": null,
            "_view_module": "@jupyter-widgets/base",
            "_view_module_version": "1.2.0",
            "_view_name": "LayoutView",
            "align_content": null,
            "align_items": null,
            "align_self": null,
            "border": null,
            "bottom": null,
            "display": null,
            "flex": null,
            "flex_flow": null,
            "grid_area": null,
            "grid_auto_columns": null,
            "grid_auto_flow": null,
            "grid_auto_rows": null,
            "grid_column": null,
            "grid_gap": null,
            "grid_row": null,
            "grid_template_areas": null,
            "grid_template_columns": null,
            "grid_template_rows": null,
            "height": null,
            "justify_content": null,
            "justify_items": null,
            "left": null,
            "margin": null,
            "max_height": null,
            "max_width": null,
            "min_height": null,
            "min_width": null,
            "object_fit": null,
            "object_position": null,
            "order": null,
            "overflow": null,
            "overflow_x": null,
            "overflow_y": null,
            "padding": null,
            "right": null,
            "top": null,
            "visibility": null,
            "width": null
          }
        },
        "29b7a82bd4af421a9d94c10c449226da": {
          "model_module": "@jupyter-widgets/base",
          "model_module_version": "1.2.0",
          "model_name": "LayoutModel",
          "state": {
            "_model_module": "@jupyter-widgets/base",
            "_model_module_version": "1.2.0",
            "_model_name": "LayoutModel",
            "_view_count": null,
            "_view_module": "@jupyter-widgets/base",
            "_view_module_version": "1.2.0",
            "_view_name": "LayoutView",
            "align_content": null,
            "align_items": null,
            "align_self": null,
            "border": null,
            "bottom": null,
            "display": null,
            "flex": null,
            "flex_flow": null,
            "grid_area": null,
            "grid_auto_columns": null,
            "grid_auto_flow": null,
            "grid_auto_rows": null,
            "grid_column": null,
            "grid_gap": null,
            "grid_row": null,
            "grid_template_areas": null,
            "grid_template_columns": null,
            "grid_template_rows": null,
            "height": null,
            "justify_content": null,
            "justify_items": null,
            "left": null,
            "margin": null,
            "max_height": null,
            "max_width": null,
            "min_height": null,
            "min_width": null,
            "object_fit": null,
            "object_position": null,
            "order": null,
            "overflow": null,
            "overflow_x": null,
            "overflow_y": null,
            "padding": null,
            "right": null,
            "top": null,
            "visibility": null,
            "width": null
          }
        },
        "334dec41651646fbb7e172afda89be28": {
          "model_module": "@jupyter-widgets/controls",
          "model_module_version": "1.5.0",
          "model_name": "HBoxModel",
          "state": {
            "_dom_classes": [],
            "_model_module": "@jupyter-widgets/controls",
            "_model_module_version": "1.5.0",
            "_model_name": "HBoxModel",
            "_view_count": null,
            "_view_module": "@jupyter-widgets/controls",
            "_view_module_version": "1.5.0",
            "_view_name": "HBoxView",
            "box_style": "",
            "children": [
              "IPY_MODEL_d820c1dd34a445ad864abfe255269581",
              "IPY_MODEL_e76989f551054c9f9dd93900624588d6",
              "IPY_MODEL_9e5909b046164ab19d83ba616f88a039"
            ],
            "layout": "IPY_MODEL_d37c53d95386404181be294bf5bbc3ad"
          }
        },
        "362cc8d6d3fb439c846dea1fe2d6a72c": {
          "model_module": "@jupyter-widgets/base",
          "model_module_version": "1.2.0",
          "model_name": "LayoutModel",
          "state": {
            "_model_module": "@jupyter-widgets/base",
            "_model_module_version": "1.2.0",
            "_model_name": "LayoutModel",
            "_view_count": null,
            "_view_module": "@jupyter-widgets/base",
            "_view_module_version": "1.2.0",
            "_view_name": "LayoutView",
            "align_content": null,
            "align_items": null,
            "align_self": null,
            "border": null,
            "bottom": null,
            "display": null,
            "flex": null,
            "flex_flow": null,
            "grid_area": null,
            "grid_auto_columns": null,
            "grid_auto_flow": null,
            "grid_auto_rows": null,
            "grid_column": null,
            "grid_gap": null,
            "grid_row": null,
            "grid_template_areas": null,
            "grid_template_columns": null,
            "grid_template_rows": null,
            "height": null,
            "justify_content": null,
            "justify_items": null,
            "left": null,
            "margin": null,
            "max_height": null,
            "max_width": null,
            "min_height": null,
            "min_width": null,
            "object_fit": null,
            "object_position": null,
            "order": null,
            "overflow": null,
            "overflow_x": null,
            "overflow_y": null,
            "padding": null,
            "right": null,
            "top": null,
            "visibility": null,
            "width": null
          }
        },
        "3679f1afa8464cef8d889ca190ece19d": {
          "model_module": "@jupyter-widgets/controls",
          "model_module_version": "1.5.0",
          "model_name": "DescriptionStyleModel",
          "state": {
            "_model_module": "@jupyter-widgets/controls",
            "_model_module_version": "1.5.0",
            "_model_name": "DescriptionStyleModel",
            "_view_count": null,
            "_view_module": "@jupyter-widgets/base",
            "_view_module_version": "1.2.0",
            "_view_name": "StyleView",
            "description_width": ""
          }
        },
        "38682a41c4514be39af5d72a0654246b": {
          "model_module": "@jupyter-widgets/controls",
          "model_module_version": "1.5.0",
          "model_name": "HTMLModel",
          "state": {
            "_dom_classes": [],
            "_model_module": "@jupyter-widgets/controls",
            "_model_module_version": "1.5.0",
            "_model_name": "HTMLModel",
            "_view_count": null,
            "_view_module": "@jupyter-widgets/controls",
            "_view_module_version": "1.5.0",
            "_view_name": "HTMLView",
            "description": "",
            "description_tooltip": null,
            "layout": "IPY_MODEL_bd900b92807a4d24aca116391ca86edc",
            "placeholder": "​",
            "style": "IPY_MODEL_847803dbeb214508b80900fbe5315b1a",
            "value": " 499M/499M [00:06&lt;00:00, 76.6MB/s]"
          }
        },
        "3a62bb14702c4821941f72f19cc998e1": {
          "model_module": "@jupyter-widgets/controls",
          "model_module_version": "1.5.0",
          "model_name": "ProgressStyleModel",
          "state": {
            "_model_module": "@jupyter-widgets/controls",
            "_model_module_version": "1.5.0",
            "_model_name": "ProgressStyleModel",
            "_view_count": null,
            "_view_module": "@jupyter-widgets/base",
            "_view_module_version": "1.2.0",
            "_view_name": "StyleView",
            "bar_color": null,
            "description_width": ""
          }
        },
        "3bb23fad4d30410f834203bb113e903b": {
          "model_module": "@jupyter-widgets/controls",
          "model_module_version": "1.5.0",
          "model_name": "ProgressStyleModel",
          "state": {
            "_model_module": "@jupyter-widgets/controls",
            "_model_module_version": "1.5.0",
            "_model_name": "ProgressStyleModel",
            "_view_count": null,
            "_view_module": "@jupyter-widgets/base",
            "_view_module_version": "1.2.0",
            "_view_name": "StyleView",
            "bar_color": null,
            "description_width": ""
          }
        },
        "41d89f22e6d441f3a11526f4638ea0c5": {
          "model_module": "@jupyter-widgets/controls",
          "model_module_version": "1.5.0",
          "model_name": "HTMLModel",
          "state": {
            "_dom_classes": [],
            "_model_module": "@jupyter-widgets/controls",
            "_model_module_version": "1.5.0",
            "_model_name": "HTMLModel",
            "_view_count": null,
            "_view_module": "@jupyter-widgets/controls",
            "_view_module_version": "1.5.0",
            "_view_name": "HTMLView",
            "description": "",
            "description_tooltip": null,
            "layout": "IPY_MODEL_0186c6fc47fc4a5ab2c568f6988925a2",
            "placeholder": "​",
            "style": "IPY_MODEL_b877103f9b53410c92ec3174dce918ba",
            "value": " 456k/456k [00:00&lt;00:00, 1.33MB/s]"
          }
        },
        "4405742977fc44eb8f7953fec0181e65": {
          "model_module": "@jupyter-widgets/controls",
          "model_module_version": "1.5.0",
          "model_name": "FloatProgressModel",
          "state": {
            "_dom_classes": [],
            "_model_module": "@jupyter-widgets/controls",
            "_model_module_version": "1.5.0",
            "_model_name": "FloatProgressModel",
            "_view_count": null,
            "_view_module": "@jupyter-widgets/controls",
            "_view_module_version": "1.5.0",
            "_view_name": "ProgressView",
            "bar_style": "success",
            "description": "",
            "description_tooltip": null,
            "layout": "IPY_MODEL_7e69ab6efd054786b3d821344fa0f42e",
            "max": 498679497,
            "min": 0,
            "orientation": "horizontal",
            "style": "IPY_MODEL_9f8a5124749444d89241e5f592b22480",
            "value": 498679497
          }
        },
        "457754fda88740c89e034a01bfc596c9": {
          "model_module": "@jupyter-widgets/controls",
          "model_module_version": "1.5.0",
          "model_name": "ProgressStyleModel",
          "state": {
            "_model_module": "@jupyter-widgets/controls",
            "_model_module_version": "1.5.0",
            "_model_name": "ProgressStyleModel",
            "_view_count": null,
            "_view_module": "@jupyter-widgets/base",
            "_view_module_version": "1.2.0",
            "_view_name": "StyleView",
            "bar_color": null,
            "description_width": ""
          }
        },
        "4e0fb0e4884545b79be097717e33a305": {
          "model_module": "@jupyter-widgets/controls",
          "model_module_version": "1.5.0",
          "model_name": "DescriptionStyleModel",
          "state": {
            "_model_module": "@jupyter-widgets/controls",
            "_model_module_version": "1.5.0",
            "_model_name": "DescriptionStyleModel",
            "_view_count": null,
            "_view_module": "@jupyter-widgets/base",
            "_view_module_version": "1.2.0",
            "_view_name": "StyleView",
            "description_width": ""
          }
        },
        "4e4a3f0084d14d279e5ce5ac0b9c1021": {
          "model_module": "@jupyter-widgets/base",
          "model_module_version": "1.2.0",
          "model_name": "LayoutModel",
          "state": {
            "_model_module": "@jupyter-widgets/base",
            "_model_module_version": "1.2.0",
            "_model_name": "LayoutModel",
            "_view_count": null,
            "_view_module": "@jupyter-widgets/base",
            "_view_module_version": "1.2.0",
            "_view_name": "LayoutView",
            "align_content": null,
            "align_items": null,
            "align_self": null,
            "border": null,
            "bottom": null,
            "display": null,
            "flex": null,
            "flex_flow": null,
            "grid_area": null,
            "grid_auto_columns": null,
            "grid_auto_flow": null,
            "grid_auto_rows": null,
            "grid_column": null,
            "grid_gap": null,
            "grid_row": null,
            "grid_template_areas": null,
            "grid_template_columns": null,
            "grid_template_rows": null,
            "height": null,
            "justify_content": null,
            "justify_items": null,
            "left": null,
            "margin": null,
            "max_height": null,
            "max_width": null,
            "min_height": null,
            "min_width": null,
            "object_fit": null,
            "object_position": null,
            "order": null,
            "overflow": null,
            "overflow_x": null,
            "overflow_y": null,
            "padding": null,
            "right": null,
            "top": null,
            "visibility": null,
            "width": null
          }
        },
        "5092b1d093ab4a9194858b17fd451e28": {
          "model_module": "@jupyter-widgets/base",
          "model_module_version": "1.2.0",
          "model_name": "LayoutModel",
          "state": {
            "_model_module": "@jupyter-widgets/base",
            "_model_module_version": "1.2.0",
            "_model_name": "LayoutModel",
            "_view_count": null,
            "_view_module": "@jupyter-widgets/base",
            "_view_module_version": "1.2.0",
            "_view_name": "LayoutView",
            "align_content": null,
            "align_items": null,
            "align_self": null,
            "border": null,
            "bottom": null,
            "display": null,
            "flex": null,
            "flex_flow": null,
            "grid_area": null,
            "grid_auto_columns": null,
            "grid_auto_flow": null,
            "grid_auto_rows": null,
            "grid_column": null,
            "grid_gap": null,
            "grid_row": null,
            "grid_template_areas": null,
            "grid_template_columns": null,
            "grid_template_rows": null,
            "height": null,
            "justify_content": null,
            "justify_items": null,
            "left": null,
            "margin": null,
            "max_height": null,
            "max_width": null,
            "min_height": null,
            "min_width": null,
            "object_fit": null,
            "object_position": null,
            "order": null,
            "overflow": null,
            "overflow_x": null,
            "overflow_y": null,
            "padding": null,
            "right": null,
            "top": null,
            "visibility": null,
            "width": null
          }
        },
        "50b4464b23a745aab99260890740cc52": {
          "model_module": "@jupyter-widgets/base",
          "model_module_version": "1.2.0",
          "model_name": "LayoutModel",
          "state": {
            "_model_module": "@jupyter-widgets/base",
            "_model_module_version": "1.2.0",
            "_model_name": "LayoutModel",
            "_view_count": null,
            "_view_module": "@jupyter-widgets/base",
            "_view_module_version": "1.2.0",
            "_view_name": "LayoutView",
            "align_content": null,
            "align_items": null,
            "align_self": null,
            "border": null,
            "bottom": null,
            "display": null,
            "flex": null,
            "flex_flow": null,
            "grid_area": null,
            "grid_auto_columns": null,
            "grid_auto_flow": null,
            "grid_auto_rows": null,
            "grid_column": null,
            "grid_gap": null,
            "grid_row": null,
            "grid_template_areas": null,
            "grid_template_columns": null,
            "grid_template_rows": null,
            "height": null,
            "justify_content": null,
            "justify_items": null,
            "left": null,
            "margin": null,
            "max_height": null,
            "max_width": null,
            "min_height": null,
            "min_width": null,
            "object_fit": null,
            "object_position": null,
            "order": null,
            "overflow": null,
            "overflow_x": null,
            "overflow_y": null,
            "padding": null,
            "right": null,
            "top": null,
            "visibility": null,
            "width": null
          }
        },
        "519baef1c4e44738a48c4522c38fb0d0": {
          "model_module": "@jupyter-widgets/controls",
          "model_module_version": "1.5.0",
          "model_name": "HTMLModel",
          "state": {
            "_dom_classes": [],
            "_model_module": "@jupyter-widgets/controls",
            "_model_module_version": "1.5.0",
            "_model_name": "HTMLModel",
            "_view_count": null,
            "_view_module": "@jupyter-widgets/controls",
            "_view_module_version": "1.5.0",
            "_view_name": "HTMLView",
            "description": "",
            "description_tooltip": null,
            "layout": "IPY_MODEL_5b094994b6b94c16b67fdf049330604c",
            "placeholder": "​",
            "style": "IPY_MODEL_db7c421e35704e9ab235a5c069127370",
            "value": " 150/150 [00:00&lt;00:00, 5.59kB/s]"
          }
        },
        "537e5b63e82042749fe8cc60a0bd6f4b": {
          "model_module": "@jupyter-widgets/controls",
          "model_module_version": "1.5.0",
          "model_name": "DescriptionStyleModel",
          "state": {
            "_model_module": "@jupyter-widgets/controls",
            "_model_module_version": "1.5.0",
            "_model_name": "DescriptionStyleModel",
            "_view_count": null,
            "_view_module": "@jupyter-widgets/base",
            "_view_module_version": "1.2.0",
            "_view_name": "StyleView",
            "description_width": ""
          }
        },
        "5646238c05274138af9d69a073ed6504": {
          "model_module": "@jupyter-widgets/controls",
          "model_module_version": "1.5.0",
          "model_name": "DescriptionStyleModel",
          "state": {
            "_model_module": "@jupyter-widgets/controls",
            "_model_module_version": "1.5.0",
            "_model_name": "DescriptionStyleModel",
            "_view_count": null,
            "_view_module": "@jupyter-widgets/base",
            "_view_module_version": "1.2.0",
            "_view_name": "StyleView",
            "description_width": ""
          }
        },
        "59a6fda0f6724c4db7164a7539e857ec": {
          "model_module": "@jupyter-widgets/controls",
          "model_module_version": "1.5.0",
          "model_name": "HTMLModel",
          "state": {
            "_dom_classes": [],
            "_model_module": "@jupyter-widgets/controls",
            "_model_module_version": "1.5.0",
            "_model_name": "HTMLModel",
            "_view_count": null,
            "_view_module": "@jupyter-widgets/controls",
            "_view_module_version": "1.5.0",
            "_view_name": "HTMLView",
            "description": "",
            "description_tooltip": null,
            "layout": "IPY_MODEL_923b5352f6c74264ada446e21bfa72bb",
            "placeholder": "​",
            "style": "IPY_MODEL_f85471d3745746e2aa06604053c0a503",
            "value": " 500/500 [03:13&lt;00:00,  2.13it/s]"
          }
        },
        "59e2cf251b1e47f29e248291b9ca55cb": {
          "model_module": "@jupyter-widgets/controls",
          "model_module_version": "1.5.0",
          "model_name": "FloatProgressModel",
          "state": {
            "_dom_classes": [],
            "_model_module": "@jupyter-widgets/controls",
            "_model_module_version": "1.5.0",
            "_model_name": "FloatProgressModel",
            "_view_count": null,
            "_view_module": "@jupyter-widgets/controls",
            "_view_module_version": "1.5.0",
            "_view_name": "ProgressView",
            "bar_style": "success",
            "description": "",
            "description_tooltip": null,
            "layout": "IPY_MODEL_8f14c9cf1af34cb2a4621794c6d13fa1",
            "max": 747,
            "min": 0,
            "orientation": "horizontal",
            "style": "IPY_MODEL_3bb23fad4d30410f834203bb113e903b",
            "value": 747
          }
        },
        "5a5308610fb246859b78678ee82e5197": {
          "model_module": "@jupyter-widgets/controls",
          "model_module_version": "1.5.0",
          "model_name": "HTMLModel",
          "state": {
            "_dom_classes": [],
            "_model_module": "@jupyter-widgets/controls",
            "_model_module_version": "1.5.0",
            "_model_name": "HTMLModel",
            "_view_count": null,
            "_view_module": "@jupyter-widgets/controls",
            "_view_module_version": "1.5.0",
            "_view_name": "HTMLView",
            "description": "",
            "description_tooltip": null,
            "layout": "IPY_MODEL_d6dced4a7cd945db998a37665764b6d8",
            "placeholder": "​",
            "style": "IPY_MODEL_11a999edb5aa4c8790a25b147fc6f256",
            "value": "100%"
          }
        },
        "5b094994b6b94c16b67fdf049330604c": {
          "model_module": "@jupyter-widgets/base",
          "model_module_version": "1.2.0",
          "model_name": "LayoutModel",
          "state": {
            "_model_module": "@jupyter-widgets/base",
            "_model_module_version": "1.2.0",
            "_model_name": "LayoutModel",
            "_view_count": null,
            "_view_module": "@jupyter-widgets/base",
            "_view_module_version": "1.2.0",
            "_view_name": "LayoutView",
            "align_content": null,
            "align_items": null,
            "align_self": null,
            "border": null,
            "bottom": null,
            "display": null,
            "flex": null,
            "flex_flow": null,
            "grid_area": null,
            "grid_auto_columns": null,
            "grid_auto_flow": null,
            "grid_auto_rows": null,
            "grid_column": null,
            "grid_gap": null,
            "grid_row": null,
            "grid_template_areas": null,
            "grid_template_columns": null,
            "grid_template_rows": null,
            "height": null,
            "justify_content": null,
            "justify_items": null,
            "left": null,
            "margin": null,
            "max_height": null,
            "max_width": null,
            "min_height": null,
            "min_width": null,
            "object_fit": null,
            "object_position": null,
            "order": null,
            "overflow": null,
            "overflow_x": null,
            "overflow_y": null,
            "padding": null,
            "right": null,
            "top": null,
            "visibility": null,
            "width": null
          }
        },
        "5f74da51b145434d8ad5036968cc3c45": {
          "model_module": "@jupyter-widgets/controls",
          "model_module_version": "1.5.0",
          "model_name": "HBoxModel",
          "state": {
            "_dom_classes": [],
            "_model_module": "@jupyter-widgets/controls",
            "_model_module_version": "1.5.0",
            "_model_name": "HBoxModel",
            "_view_count": null,
            "_view_module": "@jupyter-widgets/controls",
            "_view_module_version": "1.5.0",
            "_view_name": "HBoxView",
            "box_style": "",
            "children": [
              "IPY_MODEL_5a5308610fb246859b78678ee82e5197",
              "IPY_MODEL_ed6058d9c7954d2bb82cfccb1b89d235",
              "IPY_MODEL_9432487a521947aa82392c15dfff332e"
            ],
            "layout": "IPY_MODEL_dc6bb9312f854aa4a39d79d9724b2de3"
          }
        },
        "63966813b8ac4bc4a823f3b8c1bc3626": {
          "model_module": "@jupyter-widgets/controls",
          "model_module_version": "1.5.0",
          "model_name": "ProgressStyleModel",
          "state": {
            "_model_module": "@jupyter-widgets/controls",
            "_model_module_version": "1.5.0",
            "_model_name": "ProgressStyleModel",
            "_view_count": null,
            "_view_module": "@jupyter-widgets/base",
            "_view_module_version": "1.2.0",
            "_view_name": "StyleView",
            "bar_color": null,
            "description_width": ""
          }
        },
        "648b7030621f44e5ad2a272142475ddc": {
          "model_module": "@jupyter-widgets/base",
          "model_module_version": "1.2.0",
          "model_name": "LayoutModel",
          "state": {
            "_model_module": "@jupyter-widgets/base",
            "_model_module_version": "1.2.0",
            "_model_name": "LayoutModel",
            "_view_count": null,
            "_view_module": "@jupyter-widgets/base",
            "_view_module_version": "1.2.0",
            "_view_name": "LayoutView",
            "align_content": null,
            "align_items": null,
            "align_self": null,
            "border": null,
            "bottom": null,
            "display": null,
            "flex": null,
            "flex_flow": null,
            "grid_area": null,
            "grid_auto_columns": null,
            "grid_auto_flow": null,
            "grid_auto_rows": null,
            "grid_column": null,
            "grid_gap": null,
            "grid_row": null,
            "grid_template_areas": null,
            "grid_template_columns": null,
            "grid_template_rows": null,
            "height": null,
            "justify_content": null,
            "justify_items": null,
            "left": null,
            "margin": null,
            "max_height": null,
            "max_width": null,
            "min_height": null,
            "min_width": null,
            "object_fit": null,
            "object_position": null,
            "order": null,
            "overflow": null,
            "overflow_x": null,
            "overflow_y": null,
            "padding": null,
            "right": null,
            "top": null,
            "visibility": null,
            "width": null
          }
        },
        "70794184d62d440784943d978154ecb5": {
          "model_module": "@jupyter-widgets/base",
          "model_module_version": "1.2.0",
          "model_name": "LayoutModel",
          "state": {
            "_model_module": "@jupyter-widgets/base",
            "_model_module_version": "1.2.0",
            "_model_name": "LayoutModel",
            "_view_count": null,
            "_view_module": "@jupyter-widgets/base",
            "_view_module_version": "1.2.0",
            "_view_name": "LayoutView",
            "align_content": null,
            "align_items": null,
            "align_self": null,
            "border": null,
            "bottom": null,
            "display": null,
            "flex": null,
            "flex_flow": null,
            "grid_area": null,
            "grid_auto_columns": null,
            "grid_auto_flow": null,
            "grid_auto_rows": null,
            "grid_column": null,
            "grid_gap": null,
            "grid_row": null,
            "grid_template_areas": null,
            "grid_template_columns": null,
            "grid_template_rows": null,
            "height": null,
            "justify_content": null,
            "justify_items": null,
            "left": null,
            "margin": null,
            "max_height": null,
            "max_width": null,
            "min_height": null,
            "min_width": null,
            "object_fit": null,
            "object_position": null,
            "order": null,
            "overflow": null,
            "overflow_x": null,
            "overflow_y": null,
            "padding": null,
            "right": null,
            "top": null,
            "visibility": null,
            "width": null
          }
        },
        "7e69ab6efd054786b3d821344fa0f42e": {
          "model_module": "@jupyter-widgets/base",
          "model_module_version": "1.2.0",
          "model_name": "LayoutModel",
          "state": {
            "_model_module": "@jupyter-widgets/base",
            "_model_module_version": "1.2.0",
            "_model_name": "LayoutModel",
            "_view_count": null,
            "_view_module": "@jupyter-widgets/base",
            "_view_module_version": "1.2.0",
            "_view_name": "LayoutView",
            "align_content": null,
            "align_items": null,
            "align_self": null,
            "border": null,
            "bottom": null,
            "display": null,
            "flex": null,
            "flex_flow": null,
            "grid_area": null,
            "grid_auto_columns": null,
            "grid_auto_flow": null,
            "grid_auto_rows": null,
            "grid_column": null,
            "grid_gap": null,
            "grid_row": null,
            "grid_template_areas": null,
            "grid_template_columns": null,
            "grid_template_rows": null,
            "height": null,
            "justify_content": null,
            "justify_items": null,
            "left": null,
            "margin": null,
            "max_height": null,
            "max_width": null,
            "min_height": null,
            "min_width": null,
            "object_fit": null,
            "object_position": null,
            "order": null,
            "overflow": null,
            "overflow_x": null,
            "overflow_y": null,
            "padding": null,
            "right": null,
            "top": null,
            "visibility": null,
            "width": null
          }
        },
        "80a2cd846961411eae8f41d6f1da5cee": {
          "model_module": "@jupyter-widgets/base",
          "model_module_version": "1.2.0",
          "model_name": "LayoutModel",
          "state": {
            "_model_module": "@jupyter-widgets/base",
            "_model_module_version": "1.2.0",
            "_model_name": "LayoutModel",
            "_view_count": null,
            "_view_module": "@jupyter-widgets/base",
            "_view_module_version": "1.2.0",
            "_view_name": "LayoutView",
            "align_content": null,
            "align_items": null,
            "align_self": null,
            "border": null,
            "bottom": null,
            "display": null,
            "flex": null,
            "flex_flow": null,
            "grid_area": null,
            "grid_auto_columns": null,
            "grid_auto_flow": null,
            "grid_auto_rows": null,
            "grid_column": null,
            "grid_gap": null,
            "grid_row": null,
            "grid_template_areas": null,
            "grid_template_columns": null,
            "grid_template_rows": null,
            "height": null,
            "justify_content": null,
            "justify_items": null,
            "left": null,
            "margin": null,
            "max_height": null,
            "max_width": null,
            "min_height": null,
            "min_width": null,
            "object_fit": null,
            "object_position": null,
            "order": null,
            "overflow": null,
            "overflow_x": null,
            "overflow_y": null,
            "padding": null,
            "right": null,
            "top": null,
            "visibility": null,
            "width": null
          }
        },
        "847803dbeb214508b80900fbe5315b1a": {
          "model_module": "@jupyter-widgets/controls",
          "model_module_version": "1.5.0",
          "model_name": "DescriptionStyleModel",
          "state": {
            "_model_module": "@jupyter-widgets/controls",
            "_model_module_version": "1.5.0",
            "_model_name": "DescriptionStyleModel",
            "_view_count": null,
            "_view_module": "@jupyter-widgets/base",
            "_view_module_version": "1.2.0",
            "_view_name": "StyleView",
            "description_width": ""
          }
        },
        "84dee848cd174be08053da6cf7edd7e4": {
          "model_module": "@jupyter-widgets/controls",
          "model_module_version": "1.5.0",
          "model_name": "ProgressStyleModel",
          "state": {
            "_model_module": "@jupyter-widgets/controls",
            "_model_module_version": "1.5.0",
            "_model_name": "ProgressStyleModel",
            "_view_count": null,
            "_view_module": "@jupyter-widgets/base",
            "_view_module_version": "1.2.0",
            "_view_name": "StyleView",
            "bar_color": null,
            "description_width": ""
          }
        },
        "8f14c9cf1af34cb2a4621794c6d13fa1": {
          "model_module": "@jupyter-widgets/base",
          "model_module_version": "1.2.0",
          "model_name": "LayoutModel",
          "state": {
            "_model_module": "@jupyter-widgets/base",
            "_model_module_version": "1.2.0",
            "_model_name": "LayoutModel",
            "_view_count": null,
            "_view_module": "@jupyter-widgets/base",
            "_view_module_version": "1.2.0",
            "_view_name": "LayoutView",
            "align_content": null,
            "align_items": null,
            "align_self": null,
            "border": null,
            "bottom": null,
            "display": null,
            "flex": null,
            "flex_flow": null,
            "grid_area": null,
            "grid_auto_columns": null,
            "grid_auto_flow": null,
            "grid_auto_rows": null,
            "grid_column": null,
            "grid_gap": null,
            "grid_row": null,
            "grid_template_areas": null,
            "grid_template_columns": null,
            "grid_template_rows": null,
            "height": null,
            "justify_content": null,
            "justify_items": null,
            "left": null,
            "margin": null,
            "max_height": null,
            "max_width": null,
            "min_height": null,
            "min_width": null,
            "object_fit": null,
            "object_position": null,
            "order": null,
            "overflow": null,
            "overflow_x": null,
            "overflow_y": null,
            "padding": null,
            "right": null,
            "top": null,
            "visibility": null,
            "width": null
          }
        },
        "923b5352f6c74264ada446e21bfa72bb": {
          "model_module": "@jupyter-widgets/base",
          "model_module_version": "1.2.0",
          "model_name": "LayoutModel",
          "state": {
            "_model_module": "@jupyter-widgets/base",
            "_model_module_version": "1.2.0",
            "_model_name": "LayoutModel",
            "_view_count": null,
            "_view_module": "@jupyter-widgets/base",
            "_view_module_version": "1.2.0",
            "_view_name": "LayoutView",
            "align_content": null,
            "align_items": null,
            "align_self": null,
            "border": null,
            "bottom": null,
            "display": null,
            "flex": null,
            "flex_flow": null,
            "grid_area": null,
            "grid_auto_columns": null,
            "grid_auto_flow": null,
            "grid_auto_rows": null,
            "grid_column": null,
            "grid_gap": null,
            "grid_row": null,
            "grid_template_areas": null,
            "grid_template_columns": null,
            "grid_template_rows": null,
            "height": null,
            "justify_content": null,
            "justify_items": null,
            "left": null,
            "margin": null,
            "max_height": null,
            "max_width": null,
            "min_height": null,
            "min_width": null,
            "object_fit": null,
            "object_position": null,
            "order": null,
            "overflow": null,
            "overflow_x": null,
            "overflow_y": null,
            "padding": null,
            "right": null,
            "top": null,
            "visibility": null,
            "width": null
          }
        },
        "9432487a521947aa82392c15dfff332e": {
          "model_module": "@jupyter-widgets/controls",
          "model_module_version": "1.5.0",
          "model_name": "HTMLModel",
          "state": {
            "_dom_classes": [],
            "_model_module": "@jupyter-widgets/controls",
            "_model_module_version": "1.5.0",
            "_model_name": "HTMLModel",
            "_view_count": null,
            "_view_module": "@jupyter-widgets/controls",
            "_view_module_version": "1.5.0",
            "_view_name": "HTMLView",
            "description": "",
            "description_tooltip": null,
            "layout": "IPY_MODEL_5092b1d093ab4a9194858b17fd451e28",
            "placeholder": "​",
            "style": "IPY_MODEL_4e0fb0e4884545b79be097717e33a305",
            "value": " 500/500 [00:00&lt;00:00, 1047.58it/s]"
          }
        },
        "9492f98760fa42e0a52e4beb9440edbc": {
          "model_module": "@jupyter-widgets/controls",
          "model_module_version": "1.5.0",
          "model_name": "FloatProgressModel",
          "state": {
            "_dom_classes": [],
            "_model_module": "@jupyter-widgets/controls",
            "_model_module_version": "1.5.0",
            "_model_name": "FloatProgressModel",
            "_view_count": null,
            "_view_module": "@jupyter-widgets/controls",
            "_view_module_version": "1.5.0",
            "_view_name": "ProgressView",
            "bar_style": "success",
            "description": "",
            "description_tooltip": null,
            "layout": "IPY_MODEL_80a2cd846961411eae8f41d6f1da5cee",
            "max": 500,
            "min": 0,
            "orientation": "horizontal",
            "style": "IPY_MODEL_3a62bb14702c4821941f72f19cc998e1",
            "value": 500
          }
        },
        "9d24fa120f1642e78f90ad0513127119": {
          "model_module": "@jupyter-widgets/base",
          "model_module_version": "1.2.0",
          "model_name": "LayoutModel",
          "state": {
            "_model_module": "@jupyter-widgets/base",
            "_model_module_version": "1.2.0",
            "_model_name": "LayoutModel",
            "_view_count": null,
            "_view_module": "@jupyter-widgets/base",
            "_view_module_version": "1.2.0",
            "_view_name": "LayoutView",
            "align_content": null,
            "align_items": null,
            "align_self": null,
            "border": null,
            "bottom": null,
            "display": null,
            "flex": null,
            "flex_flow": null,
            "grid_area": null,
            "grid_auto_columns": null,
            "grid_auto_flow": null,
            "grid_auto_rows": null,
            "grid_column": null,
            "grid_gap": null,
            "grid_row": null,
            "grid_template_areas": null,
            "grid_template_columns": null,
            "grid_template_rows": null,
            "height": null,
            "justify_content": null,
            "justify_items": null,
            "left": null,
            "margin": null,
            "max_height": null,
            "max_width": null,
            "min_height": null,
            "min_width": null,
            "object_fit": null,
            "object_position": null,
            "order": null,
            "overflow": null,
            "overflow_x": null,
            "overflow_y": null,
            "padding": null,
            "right": null,
            "top": null,
            "visibility": null,
            "width": null
          }
        },
        "9e5909b046164ab19d83ba616f88a039": {
          "model_module": "@jupyter-widgets/controls",
          "model_module_version": "1.5.0",
          "model_name": "HTMLModel",
          "state": {
            "_dom_classes": [],
            "_model_module": "@jupyter-widgets/controls",
            "_model_module_version": "1.5.0",
            "_model_name": "HTMLModel",
            "_view_count": null,
            "_view_module": "@jupyter-widgets/controls",
            "_view_module_version": "1.5.0",
            "_view_name": "HTMLView",
            "description": "",
            "description_tooltip": null,
            "layout": "IPY_MODEL_a618f948409f4b0aadeec9a3bb57c0aa",
            "placeholder": "​",
            "style": "IPY_MODEL_bc42d98e9d6d4ce99a35671ac0dc91ed",
            "value": " 899k/899k [00:00&lt;00:00, 2.08MB/s]"
          }
        },
        "9f8a5124749444d89241e5f592b22480": {
          "model_module": "@jupyter-widgets/controls",
          "model_module_version": "1.5.0",
          "model_name": "ProgressStyleModel",
          "state": {
            "_model_module": "@jupyter-widgets/controls",
            "_model_module_version": "1.5.0",
            "_model_name": "ProgressStyleModel",
            "_view_count": null,
            "_view_module": "@jupyter-widgets/base",
            "_view_module_version": "1.2.0",
            "_view_name": "StyleView",
            "bar_color": null,
            "description_width": ""
          }
        },
        "a12438211f0342cbbce993f47fe5ddf4": {
          "model_module": "@jupyter-widgets/controls",
          "model_module_version": "1.5.0",
          "model_name": "HBoxModel",
          "state": {
            "_dom_classes": [],
            "_model_module": "@jupyter-widgets/controls",
            "_model_module_version": "1.5.0",
            "_model_name": "HBoxModel",
            "_view_count": null,
            "_view_module": "@jupyter-widgets/controls",
            "_view_module_version": "1.5.0",
            "_view_name": "HBoxView",
            "box_style": "",
            "children": [
              "IPY_MODEL_23de13f54acd42efb3d2b42c35092b80",
              "IPY_MODEL_4405742977fc44eb8f7953fec0181e65",
              "IPY_MODEL_38682a41c4514be39af5d72a0654246b"
            ],
            "layout": "IPY_MODEL_f4d8240cc0144996880745dbbe22ea34"
          }
        },
        "a618f948409f4b0aadeec9a3bb57c0aa": {
          "model_module": "@jupyter-widgets/base",
          "model_module_version": "1.2.0",
          "model_name": "LayoutModel",
          "state": {
            "_model_module": "@jupyter-widgets/base",
            "_model_module_version": "1.2.0",
            "_model_name": "LayoutModel",
            "_view_count": null,
            "_view_module": "@jupyter-widgets/base",
            "_view_module_version": "1.2.0",
            "_view_name": "LayoutView",
            "align_content": null,
            "align_items": null,
            "align_self": null,
            "border": null,
            "bottom": null,
            "display": null,
            "flex": null,
            "flex_flow": null,
            "grid_area": null,
            "grid_auto_columns": null,
            "grid_auto_flow": null,
            "grid_auto_rows": null,
            "grid_column": null,
            "grid_gap": null,
            "grid_row": null,
            "grid_template_areas": null,
            "grid_template_columns": null,
            "grid_template_rows": null,
            "height": null,
            "justify_content": null,
            "justify_items": null,
            "left": null,
            "margin": null,
            "max_height": null,
            "max_width": null,
            "min_height": null,
            "min_width": null,
            "object_fit": null,
            "object_position": null,
            "order": null,
            "overflow": null,
            "overflow_x": null,
            "overflow_y": null,
            "padding": null,
            "right": null,
            "top": null,
            "visibility": null,
            "width": null
          }
        },
        "b1e9e945a341449b8d67132c252e9244": {
          "model_module": "@jupyter-widgets/controls",
          "model_module_version": "1.5.0",
          "model_name": "HTMLModel",
          "state": {
            "_dom_classes": [],
            "_model_module": "@jupyter-widgets/controls",
            "_model_module_version": "1.5.0",
            "_model_name": "HTMLModel",
            "_view_count": null,
            "_view_module": "@jupyter-widgets/controls",
            "_view_module_version": "1.5.0",
            "_view_name": "HTMLView",
            "description": "",
            "description_tooltip": null,
            "layout": "IPY_MODEL_362cc8d6d3fb439c846dea1fe2d6a72c",
            "placeholder": "​",
            "style": "IPY_MODEL_5646238c05274138af9d69a073ed6504",
            "value": "100%"
          }
        },
        "b52fbaf43de149c4a1fa3f479d733772": {
          "model_module": "@jupyter-widgets/controls",
          "model_module_version": "1.5.0",
          "model_name": "HTMLModel",
          "state": {
            "_dom_classes": [],
            "_model_module": "@jupyter-widgets/controls",
            "_model_module_version": "1.5.0",
            "_model_name": "HTMLModel",
            "_view_count": null,
            "_view_module": "@jupyter-widgets/controls",
            "_view_module_version": "1.5.0",
            "_view_name": "HTMLView",
            "description": "",
            "description_tooltip": null,
            "layout": "IPY_MODEL_4e4a3f0084d14d279e5ce5ac0b9c1021",
            "placeholder": "​",
            "style": "IPY_MODEL_208e40fa33234a3ab2a27e1380146e7f",
            "value": "Downloading (…)cial_tokens_map.json: 100%"
          }
        },
        "b659ece17c85478f86953b051abceb46": {
          "model_module": "@jupyter-widgets/base",
          "model_module_version": "1.2.0",
          "model_name": "LayoutModel",
          "state": {
            "_model_module": "@jupyter-widgets/base",
            "_model_module_version": "1.2.0",
            "_model_name": "LayoutModel",
            "_view_count": null,
            "_view_module": "@jupyter-widgets/base",
            "_view_module_version": "1.2.0",
            "_view_name": "LayoutView",
            "align_content": null,
            "align_items": null,
            "align_self": null,
            "border": null,
            "bottom": null,
            "display": null,
            "flex": null,
            "flex_flow": null,
            "grid_area": null,
            "grid_auto_columns": null,
            "grid_auto_flow": null,
            "grid_auto_rows": null,
            "grid_column": null,
            "grid_gap": null,
            "grid_row": null,
            "grid_template_areas": null,
            "grid_template_columns": null,
            "grid_template_rows": null,
            "height": null,
            "justify_content": null,
            "justify_items": null,
            "left": null,
            "margin": null,
            "max_height": null,
            "max_width": null,
            "min_height": null,
            "min_width": null,
            "object_fit": null,
            "object_position": null,
            "order": null,
            "overflow": null,
            "overflow_x": null,
            "overflow_y": null,
            "padding": null,
            "right": null,
            "top": null,
            "visibility": null,
            "width": null
          }
        },
        "b6e7167246414e6eacb9d2151eea0620": {
          "model_module": "@jupyter-widgets/controls",
          "model_module_version": "1.5.0",
          "model_name": "HTMLModel",
          "state": {
            "_dom_classes": [],
            "_model_module": "@jupyter-widgets/controls",
            "_model_module_version": "1.5.0",
            "_model_name": "HTMLModel",
            "_view_count": null,
            "_view_module": "@jupyter-widgets/controls",
            "_view_module_version": "1.5.0",
            "_view_name": "HTMLView",
            "description": "",
            "description_tooltip": null,
            "layout": "IPY_MODEL_d816b0a0273f4f15a001fe771571997e",
            "placeholder": "​",
            "style": "IPY_MODEL_e93c613e5b0741b28fd690ed70fc7235",
            "value": "Downloading (…)olve/main/merges.txt: 100%"
          }
        },
        "b877103f9b53410c92ec3174dce918ba": {
          "model_module": "@jupyter-widgets/controls",
          "model_module_version": "1.5.0",
          "model_name": "DescriptionStyleModel",
          "state": {
            "_model_module": "@jupyter-widgets/controls",
            "_model_module_version": "1.5.0",
            "_model_name": "DescriptionStyleModel",
            "_view_count": null,
            "_view_module": "@jupyter-widgets/base",
            "_view_module_version": "1.2.0",
            "_view_name": "StyleView",
            "description_width": ""
          }
        },
        "ba379f01990e4b6fb0b74c909340ac08": {
          "model_module": "@jupyter-widgets/controls",
          "model_module_version": "1.5.0",
          "model_name": "HTMLModel",
          "state": {
            "_dom_classes": [],
            "_model_module": "@jupyter-widgets/controls",
            "_model_module_version": "1.5.0",
            "_model_name": "HTMLModel",
            "_view_count": null,
            "_view_module": "@jupyter-widgets/controls",
            "_view_module_version": "1.5.0",
            "_view_name": "HTMLView",
            "description": "",
            "description_tooltip": null,
            "layout": "IPY_MODEL_70794184d62d440784943d978154ecb5",
            "placeholder": "​",
            "style": "IPY_MODEL_d2a67e411045491f97680ced233aece7",
            "value": "Downloading (…)lve/main/config.json: 100%"
          }
        },
        "bc42d98e9d6d4ce99a35671ac0dc91ed": {
          "model_module": "@jupyter-widgets/controls",
          "model_module_version": "1.5.0",
          "model_name": "DescriptionStyleModel",
          "state": {
            "_model_module": "@jupyter-widgets/controls",
            "_model_module_version": "1.5.0",
            "_model_name": "DescriptionStyleModel",
            "_view_count": null,
            "_view_module": "@jupyter-widgets/base",
            "_view_module_version": "1.2.0",
            "_view_name": "StyleView",
            "description_width": ""
          }
        },
        "bd900b92807a4d24aca116391ca86edc": {
          "model_module": "@jupyter-widgets/base",
          "model_module_version": "1.2.0",
          "model_name": "LayoutModel",
          "state": {
            "_model_module": "@jupyter-widgets/base",
            "_model_module_version": "1.2.0",
            "_model_name": "LayoutModel",
            "_view_count": null,
            "_view_module": "@jupyter-widgets/base",
            "_view_module_version": "1.2.0",
            "_view_name": "LayoutView",
            "align_content": null,
            "align_items": null,
            "align_self": null,
            "border": null,
            "bottom": null,
            "display": null,
            "flex": null,
            "flex_flow": null,
            "grid_area": null,
            "grid_auto_columns": null,
            "grid_auto_flow": null,
            "grid_auto_rows": null,
            "grid_column": null,
            "grid_gap": null,
            "grid_row": null,
            "grid_template_areas": null,
            "grid_template_columns": null,
            "grid_template_rows": null,
            "height": null,
            "justify_content": null,
            "justify_items": null,
            "left": null,
            "margin": null,
            "max_height": null,
            "max_width": null,
            "min_height": null,
            "min_width": null,
            "object_fit": null,
            "object_position": null,
            "order": null,
            "overflow": null,
            "overflow_x": null,
            "overflow_y": null,
            "padding": null,
            "right": null,
            "top": null,
            "visibility": null,
            "width": null
          }
        },
        "c25e819f23624de6bae79a63e43e0341": {
          "model_module": "@jupyter-widgets/controls",
          "model_module_version": "1.5.0",
          "model_name": "HBoxModel",
          "state": {
            "_dom_classes": [],
            "_model_module": "@jupyter-widgets/controls",
            "_model_module_version": "1.5.0",
            "_model_name": "HBoxModel",
            "_view_count": null,
            "_view_module": "@jupyter-widgets/controls",
            "_view_module_version": "1.5.0",
            "_view_name": "HBoxView",
            "box_style": "",
            "children": [
              "IPY_MODEL_b52fbaf43de149c4a1fa3f479d733772",
              "IPY_MODEL_248756d616db44f2a6541d0578f81722",
              "IPY_MODEL_519baef1c4e44738a48c4522c38fb0d0"
            ],
            "layout": "IPY_MODEL_648b7030621f44e5ad2a272142475ddc"
          }
        },
        "d1d8b7e4ea654629b2e3e5194b7a72fc": {
          "model_module": "@jupyter-widgets/controls",
          "model_module_version": "1.5.0",
          "model_name": "HBoxModel",
          "state": {
            "_dom_classes": [],
            "_model_module": "@jupyter-widgets/controls",
            "_model_module_version": "1.5.0",
            "_model_name": "HBoxModel",
            "_view_count": null,
            "_view_module": "@jupyter-widgets/controls",
            "_view_module_version": "1.5.0",
            "_view_name": "HBoxView",
            "box_style": "",
            "children": [
              "IPY_MODEL_b1e9e945a341449b8d67132c252e9244",
              "IPY_MODEL_9492f98760fa42e0a52e4beb9440edbc",
              "IPY_MODEL_59a6fda0f6724c4db7164a7539e857ec"
            ],
            "layout": "IPY_MODEL_9d24fa120f1642e78f90ad0513127119"
          }
        },
        "d2a67e411045491f97680ced233aece7": {
          "model_module": "@jupyter-widgets/controls",
          "model_module_version": "1.5.0",
          "model_name": "DescriptionStyleModel",
          "state": {
            "_model_module": "@jupyter-widgets/controls",
            "_model_module_version": "1.5.0",
            "_model_name": "DescriptionStyleModel",
            "_view_count": null,
            "_view_module": "@jupyter-widgets/base",
            "_view_module_version": "1.2.0",
            "_view_name": "StyleView",
            "description_width": ""
          }
        },
        "d37c53d95386404181be294bf5bbc3ad": {
          "model_module": "@jupyter-widgets/base",
          "model_module_version": "1.2.0",
          "model_name": "LayoutModel",
          "state": {
            "_model_module": "@jupyter-widgets/base",
            "_model_module_version": "1.2.0",
            "_model_name": "LayoutModel",
            "_view_count": null,
            "_view_module": "@jupyter-widgets/base",
            "_view_module_version": "1.2.0",
            "_view_name": "LayoutView",
            "align_content": null,
            "align_items": null,
            "align_self": null,
            "border": null,
            "bottom": null,
            "display": null,
            "flex": null,
            "flex_flow": null,
            "grid_area": null,
            "grid_auto_columns": null,
            "grid_auto_flow": null,
            "grid_auto_rows": null,
            "grid_column": null,
            "grid_gap": null,
            "grid_row": null,
            "grid_template_areas": null,
            "grid_template_columns": null,
            "grid_template_rows": null,
            "height": null,
            "justify_content": null,
            "justify_items": null,
            "left": null,
            "margin": null,
            "max_height": null,
            "max_width": null,
            "min_height": null,
            "min_width": null,
            "object_fit": null,
            "object_position": null,
            "order": null,
            "overflow": null,
            "overflow_x": null,
            "overflow_y": null,
            "padding": null,
            "right": null,
            "top": null,
            "visibility": null,
            "width": null
          }
        },
        "d6ac02b7ec1647fa9a64bc26c0c81ac7": {
          "model_module": "@jupyter-widgets/base",
          "model_module_version": "1.2.0",
          "model_name": "LayoutModel",
          "state": {
            "_model_module": "@jupyter-widgets/base",
            "_model_module_version": "1.2.0",
            "_model_name": "LayoutModel",
            "_view_count": null,
            "_view_module": "@jupyter-widgets/base",
            "_view_module_version": "1.2.0",
            "_view_name": "LayoutView",
            "align_content": null,
            "align_items": null,
            "align_self": null,
            "border": null,
            "bottom": null,
            "display": null,
            "flex": null,
            "flex_flow": null,
            "grid_area": null,
            "grid_auto_columns": null,
            "grid_auto_flow": null,
            "grid_auto_rows": null,
            "grid_column": null,
            "grid_gap": null,
            "grid_row": null,
            "grid_template_areas": null,
            "grid_template_columns": null,
            "grid_template_rows": null,
            "height": null,
            "justify_content": null,
            "justify_items": null,
            "left": null,
            "margin": null,
            "max_height": null,
            "max_width": null,
            "min_height": null,
            "min_width": null,
            "object_fit": null,
            "object_position": null,
            "order": null,
            "overflow": null,
            "overflow_x": null,
            "overflow_y": null,
            "padding": null,
            "right": null,
            "top": null,
            "visibility": null,
            "width": null
          }
        },
        "d6dced4a7cd945db998a37665764b6d8": {
          "model_module": "@jupyter-widgets/base",
          "model_module_version": "1.2.0",
          "model_name": "LayoutModel",
          "state": {
            "_model_module": "@jupyter-widgets/base",
            "_model_module_version": "1.2.0",
            "_model_name": "LayoutModel",
            "_view_count": null,
            "_view_module": "@jupyter-widgets/base",
            "_view_module_version": "1.2.0",
            "_view_name": "LayoutView",
            "align_content": null,
            "align_items": null,
            "align_self": null,
            "border": null,
            "bottom": null,
            "display": null,
            "flex": null,
            "flex_flow": null,
            "grid_area": null,
            "grid_auto_columns": null,
            "grid_auto_flow": null,
            "grid_auto_rows": null,
            "grid_column": null,
            "grid_gap": null,
            "grid_row": null,
            "grid_template_areas": null,
            "grid_template_columns": null,
            "grid_template_rows": null,
            "height": null,
            "justify_content": null,
            "justify_items": null,
            "left": null,
            "margin": null,
            "max_height": null,
            "max_width": null,
            "min_height": null,
            "min_width": null,
            "object_fit": null,
            "object_position": null,
            "order": null,
            "overflow": null,
            "overflow_x": null,
            "overflow_y": null,
            "padding": null,
            "right": null,
            "top": null,
            "visibility": null,
            "width": null
          }
        },
        "d816b0a0273f4f15a001fe771571997e": {
          "model_module": "@jupyter-widgets/base",
          "model_module_version": "1.2.0",
          "model_name": "LayoutModel",
          "state": {
            "_model_module": "@jupyter-widgets/base",
            "_model_module_version": "1.2.0",
            "_model_name": "LayoutModel",
            "_view_count": null,
            "_view_module": "@jupyter-widgets/base",
            "_view_module_version": "1.2.0",
            "_view_name": "LayoutView",
            "align_content": null,
            "align_items": null,
            "align_self": null,
            "border": null,
            "bottom": null,
            "display": null,
            "flex": null,
            "flex_flow": null,
            "grid_area": null,
            "grid_auto_columns": null,
            "grid_auto_flow": null,
            "grid_auto_rows": null,
            "grid_column": null,
            "grid_gap": null,
            "grid_row": null,
            "grid_template_areas": null,
            "grid_template_columns": null,
            "grid_template_rows": null,
            "height": null,
            "justify_content": null,
            "justify_items": null,
            "left": null,
            "margin": null,
            "max_height": null,
            "max_width": null,
            "min_height": null,
            "min_width": null,
            "object_fit": null,
            "object_position": null,
            "order": null,
            "overflow": null,
            "overflow_x": null,
            "overflow_y": null,
            "padding": null,
            "right": null,
            "top": null,
            "visibility": null,
            "width": null
          }
        },
        "d820c1dd34a445ad864abfe255269581": {
          "model_module": "@jupyter-widgets/controls",
          "model_module_version": "1.5.0",
          "model_name": "HTMLModel",
          "state": {
            "_dom_classes": [],
            "_model_module": "@jupyter-widgets/controls",
            "_model_module_version": "1.5.0",
            "_model_name": "HTMLModel",
            "_view_count": null,
            "_view_module": "@jupyter-widgets/controls",
            "_view_module_version": "1.5.0",
            "_view_name": "HTMLView",
            "description": "",
            "description_tooltip": null,
            "layout": "IPY_MODEL_25603894e84d4de8bb2c50097b09b1a6",
            "placeholder": "​",
            "style": "IPY_MODEL_3679f1afa8464cef8d889ca190ece19d",
            "value": "Downloading (…)olve/main/vocab.json: 100%"
          }
        },
        "db7c421e35704e9ab235a5c069127370": {
          "model_module": "@jupyter-widgets/controls",
          "model_module_version": "1.5.0",
          "model_name": "DescriptionStyleModel",
          "state": {
            "_model_module": "@jupyter-widgets/controls",
            "_model_module_version": "1.5.0",
            "_model_name": "DescriptionStyleModel",
            "_view_count": null,
            "_view_module": "@jupyter-widgets/base",
            "_view_module_version": "1.2.0",
            "_view_name": "StyleView",
            "description_width": ""
          }
        },
        "dc6bb9312f854aa4a39d79d9724b2de3": {
          "model_module": "@jupyter-widgets/base",
          "model_module_version": "1.2.0",
          "model_name": "LayoutModel",
          "state": {
            "_model_module": "@jupyter-widgets/base",
            "_model_module_version": "1.2.0",
            "_model_name": "LayoutModel",
            "_view_count": null,
            "_view_module": "@jupyter-widgets/base",
            "_view_module_version": "1.2.0",
            "_view_name": "LayoutView",
            "align_content": null,
            "align_items": null,
            "align_self": null,
            "border": null,
            "bottom": null,
            "display": null,
            "flex": null,
            "flex_flow": null,
            "grid_area": null,
            "grid_auto_columns": null,
            "grid_auto_flow": null,
            "grid_auto_rows": null,
            "grid_column": null,
            "grid_gap": null,
            "grid_row": null,
            "grid_template_areas": null,
            "grid_template_columns": null,
            "grid_template_rows": null,
            "height": null,
            "justify_content": null,
            "justify_items": null,
            "left": null,
            "margin": null,
            "max_height": null,
            "max_width": null,
            "min_height": null,
            "min_width": null,
            "object_fit": null,
            "object_position": null,
            "order": null,
            "overflow": null,
            "overflow_x": null,
            "overflow_y": null,
            "padding": null,
            "right": null,
            "top": null,
            "visibility": null,
            "width": null
          }
        },
        "e76989f551054c9f9dd93900624588d6": {
          "model_module": "@jupyter-widgets/controls",
          "model_module_version": "1.5.0",
          "model_name": "FloatProgressModel",
          "state": {
            "_dom_classes": [],
            "_model_module": "@jupyter-widgets/controls",
            "_model_module_version": "1.5.0",
            "_model_name": "FloatProgressModel",
            "_view_count": null,
            "_view_module": "@jupyter-widgets/controls",
            "_view_module_version": "1.5.0",
            "_view_name": "ProgressView",
            "bar_style": "success",
            "description": "",
            "description_tooltip": null,
            "layout": "IPY_MODEL_252b0a4d98ea4474836cf3546518b56f",
            "max": 898822,
            "min": 0,
            "orientation": "horizontal",
            "style": "IPY_MODEL_1b5d8d8e7fdd479682f8c6ba57a5776a",
            "value": 898822
          }
        },
        "e93c613e5b0741b28fd690ed70fc7235": {
          "model_module": "@jupyter-widgets/controls",
          "model_module_version": "1.5.0",
          "model_name": "DescriptionStyleModel",
          "state": {
            "_model_module": "@jupyter-widgets/controls",
            "_model_module_version": "1.5.0",
            "_model_name": "DescriptionStyleModel",
            "_view_count": null,
            "_view_module": "@jupyter-widgets/base",
            "_view_module_version": "1.2.0",
            "_view_name": "StyleView",
            "description_width": ""
          }
        },
        "ed6058d9c7954d2bb82cfccb1b89d235": {
          "model_module": "@jupyter-widgets/controls",
          "model_module_version": "1.5.0",
          "model_name": "FloatProgressModel",
          "state": {
            "_dom_classes": [],
            "_model_module": "@jupyter-widgets/controls",
            "_model_module_version": "1.5.0",
            "_model_name": "FloatProgressModel",
            "_view_count": null,
            "_view_module": "@jupyter-widgets/controls",
            "_view_module_version": "1.5.0",
            "_view_name": "ProgressView",
            "bar_style": "success",
            "description": "",
            "description_tooltip": null,
            "layout": "IPY_MODEL_fb807659502945cfbf13bc3298402189",
            "max": 500,
            "min": 0,
            "orientation": "horizontal",
            "style": "IPY_MODEL_457754fda88740c89e034a01bfc596c9",
            "value": 500
          }
        },
        "f4d8240cc0144996880745dbbe22ea34": {
          "model_module": "@jupyter-widgets/base",
          "model_module_version": "1.2.0",
          "model_name": "LayoutModel",
          "state": {
            "_model_module": "@jupyter-widgets/base",
            "_model_module_version": "1.2.0",
            "_model_name": "LayoutModel",
            "_view_count": null,
            "_view_module": "@jupyter-widgets/base",
            "_view_module_version": "1.2.0",
            "_view_name": "LayoutView",
            "align_content": null,
            "align_items": null,
            "align_self": null,
            "border": null,
            "bottom": null,
            "display": null,
            "flex": null,
            "flex_flow": null,
            "grid_area": null,
            "grid_auto_columns": null,
            "grid_auto_flow": null,
            "grid_auto_rows": null,
            "grid_column": null,
            "grid_gap": null,
            "grid_row": null,
            "grid_template_areas": null,
            "grid_template_columns": null,
            "grid_template_rows": null,
            "height": null,
            "justify_content": null,
            "justify_items": null,
            "left": null,
            "margin": null,
            "max_height": null,
            "max_width": null,
            "min_height": null,
            "min_width": null,
            "object_fit": null,
            "object_position": null,
            "order": null,
            "overflow": null,
            "overflow_x": null,
            "overflow_y": null,
            "padding": null,
            "right": null,
            "top": null,
            "visibility": null,
            "width": null
          }
        },
        "f85471d3745746e2aa06604053c0a503": {
          "model_module": "@jupyter-widgets/controls",
          "model_module_version": "1.5.0",
          "model_name": "DescriptionStyleModel",
          "state": {
            "_model_module": "@jupyter-widgets/controls",
            "_model_module_version": "1.5.0",
            "_model_name": "DescriptionStyleModel",
            "_view_count": null,
            "_view_module": "@jupyter-widgets/base",
            "_view_module_version": "1.2.0",
            "_view_name": "StyleView",
            "description_width": ""
          }
        },
        "fb807659502945cfbf13bc3298402189": {
          "model_module": "@jupyter-widgets/base",
          "model_module_version": "1.2.0",
          "model_name": "LayoutModel",
          "state": {
            "_model_module": "@jupyter-widgets/base",
            "_model_module_version": "1.2.0",
            "_model_name": "LayoutModel",
            "_view_count": null,
            "_view_module": "@jupyter-widgets/base",
            "_view_module_version": "1.2.0",
            "_view_name": "LayoutView",
            "align_content": null,
            "align_items": null,
            "align_self": null,
            "border": null,
            "bottom": null,
            "display": null,
            "flex": null,
            "flex_flow": null,
            "grid_area": null,
            "grid_auto_columns": null,
            "grid_auto_flow": null,
            "grid_auto_rows": null,
            "grid_column": null,
            "grid_gap": null,
            "grid_row": null,
            "grid_template_areas": null,
            "grid_template_columns": null,
            "grid_template_rows": null,
            "height": null,
            "justify_content": null,
            "justify_items": null,
            "left": null,
            "margin": null,
            "max_height": null,
            "max_width": null,
            "min_height": null,
            "min_width": null,
            "object_fit": null,
            "object_position": null,
            "order": null,
            "overflow": null,
            "overflow_x": null,
            "overflow_y": null,
            "padding": null,
            "right": null,
            "top": null,
            "visibility": null,
            "width": null
          }
        },
        "fc65badb9acd4268bb5d1c8ba10f7f33": {
          "model_module": "@jupyter-widgets/controls",
          "model_module_version": "1.5.0",
          "model_name": "FloatProgressModel",
          "state": {
            "_dom_classes": [],
            "_model_module": "@jupyter-widgets/controls",
            "_model_module_version": "1.5.0",
            "_model_name": "FloatProgressModel",
            "_view_count": null,
            "_view_module": "@jupyter-widgets/controls",
            "_view_module_version": "1.5.0",
            "_view_name": "ProgressView",
            "bar_style": "success",
            "description": "",
            "description_tooltip": null,
            "layout": "IPY_MODEL_b659ece17c85478f86953b051abceb46",
            "max": 456318,
            "min": 0,
            "orientation": "horizontal",
            "style": "IPY_MODEL_84dee848cd174be08053da6cf7edd7e4",
            "value": 456318
          }
        },
        "fdcaa028ed6845faaf4fd920d67931a6": {
          "model_module": "@jupyter-widgets/base",
          "model_module_version": "1.2.0",
          "model_name": "LayoutModel",
          "state": {
            "_model_module": "@jupyter-widgets/base",
            "_model_module_version": "1.2.0",
            "_model_name": "LayoutModel",
            "_view_count": null,
            "_view_module": "@jupyter-widgets/base",
            "_view_module_version": "1.2.0",
            "_view_name": "LayoutView",
            "align_content": null,
            "align_items": null,
            "align_self": null,
            "border": null,
            "bottom": null,
            "display": null,
            "flex": null,
            "flex_flow": null,
            "grid_area": null,
            "grid_auto_columns": null,
            "grid_auto_flow": null,
            "grid_auto_rows": null,
            "grid_column": null,
            "grid_gap": null,
            "grid_row": null,
            "grid_template_areas": null,
            "grid_template_columns": null,
            "grid_template_rows": null,
            "height": null,
            "justify_content": null,
            "justify_items": null,
            "left": null,
            "margin": null,
            "max_height": null,
            "max_width": null,
            "min_height": null,
            "min_width": null,
            "object_fit": null,
            "object_position": null,
            "order": null,
            "overflow": null,
            "overflow_x": null,
            "overflow_y": null,
            "padding": null,
            "right": null,
            "top": null,
            "visibility": null,
            "width": null
          }
        }
      }
    }
  },
  "nbformat": 4,
  "nbformat_minor": 5
}
